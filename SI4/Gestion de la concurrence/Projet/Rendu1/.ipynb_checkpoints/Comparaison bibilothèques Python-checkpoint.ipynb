{
 "cells": [
  {
   "cell_type": "markdown",
   "metadata": {},
   "source": [
    "# Introduction\n",
    "\n",
    "# Bibliothèques Python pour réaliser du parallélisme\n",
    "\n",
    "## Threading\n",
    "\n",
    "# https://timber.io/blog/multiprocessing-vs-multithreading-in-python-what-you-need-to-know/\n",
    "\n",
    "La bibliothèque <span style=\"color:red\">threading</span> utilise des threads pour réaliser du parallélisme.\n",
    "\n",
    "Les threads possèdent un espace mémoire partagé ce qui permet de partager facilement des informations. Cependant il y a un fort risque de conflit lors d'écriture de données. La bibliothèque permet alors l'utilisation de verrou pour protéger les données.\n",
    "\n",
    "Verrou : acquire - release\n",
    "\n",
    "### Avantages\n",
    "On peut facilement partager des données entre threads.\n",
    "\n",
    "Les threads utilisent moins d'espace mémoire car cet espace est partagé entre les threads\n",
    "\n",
    "On peut découper un problème en sous-problème.\n",
    "### Inconvénients\n",
    "Les threads ne bénéficient pas de la présence de plusieurs coeurs sur un processeur. Il n'y a pas de réelle parallélisme.\n",
    "\n",
    "Il faut faire très attention lors de l'écriture du code car il faut vérifier les éventuels conflits.\n",
    "\n",
    "Code plus dur\n",
    "\n",
    "## Multiprocessing\n",
    "\n",
    "La bibliothèque <b>multiprocessing</b> utilise des processus pour réaliser du parallélisme.\n",
    "\n",
    "La mémoire n'est pas partagée, chaque processus ayant son propre espace mémoire.\n",
    "\n",
    "Il est plus difficile de partager des informations car un processus ne peut pas accéder, en théorie, à l'espace mémoire d'un autre processus. Cependant on pourrait penser à 2 processus s'exécutant en parallèle et essayant d'écrire dans un même fichier. On peut également d'utiliser un pipe, c'est ce que propose la biliothèque multiprocessing. Elle met également à disposition des verrous comme la bibliothèque threading.\n",
    "\n",
    "### Avantages\n",
    "En créant différents processus on peut bénéficier d'un parallélisme physiquement réelle sur un processeur a plusieurs coeurs.\n",
    "\n",
    "Si un processus crash, les autres processus peuvent continuer leur exécution.\n",
    "\n",
    "Code plus simple\n",
    "### Inconvénients\n",
    "La création de nouveau processus nécessite plus de mémoire"
   ]
  },
  {
   "cell_type": "markdown",
   "metadata": {},
   "source": [
    "# Différence entre processus et thread"
   ]
  },
  {
   "cell_type": "markdown",
   "metadata": {},
   "source": [
    "![schema_prog_sys.png](attachment:schema_prog_sys.png)"
   ]
  },
  {
   "attachments": {},
   "cell_type": "markdown",
   "metadata": {},
   "source": [
    "(Schéma du cours de prog_sys)\n",
    "\n",
    "Dans ce schéma nous voyons à gauche un thread seul qui représente donc un processus avec son espace mémoire (pile + registres). Un processus ne peut pas accéder à la mémoire d'un autre processus.\n",
    "\n",
    "À droite nous avons plusieurs threads qui se partagent le même espace mémoire, chacun ayant sa propre pile et ses propres registres. Un thread peut accéder à la mémoire des autres threads."
   ]
  },
  {
   "cell_type": "markdown",
   "metadata": {},
   "source": [
    "# https://blog.floydhub.com/multiprocessing-vs-threading-in-python-what-every-data-scientist-needs-to-know/\n",
    "\n",
    "# 2 exemples de codes : un thread et un multiprocessus"
   ]
  },
  {
   "cell_type": "code",
   "execution_count": 12,
   "metadata": {
    "code_folding": []
   },
   "outputs": [
    {
     "name": "stdout",
     "output_type": "stream",
     "text": [
      "12121212121222121212121211212211221212121"
     ]
    }
   ],
   "source": [
    "import random\n",
    "import sys\n",
    "from threading import Thread\n",
    "import time\n",
    "\n",
    "class Afficheur(Thread):\n",
    "\n",
    "    \"\"\"Thread chargé simplement d'afficher une lettre dans la console.\"\"\"\n",
    "\n",
    "    def __init__(self, lettre):\n",
    "        Thread.__init__(self)\n",
    "        self.lettre = lettre\n",
    "\n",
    "    def run(self):\n",
    "        \"\"\"Code à exécuter pendant l'exécution du thread.\"\"\"\n",
    "        i = 0\n",
    "        while i < 20:\n",
    "            sys.stdout.write(self.lettre)\n",
    "            sys.stdout.flush()\n",
    "            attente = 0.2\n",
    "            attente += random.randint(1, 60) / 100\n",
    "            time.sleep(attente)\n",
    "            i += 1\n",
    "\n",
    "# Création des threads\n",
    "thread_1 = Afficheur(\"1\")\n",
    "thread_2 = Afficheur(\"2\")\n",
    "\n",
    "# Lancement des threads\n",
    "thread_1.start()\n",
    "thread_2.start()\n",
    "\n",
    "# Attend que les threads se terminent\n",
    "thread_1.join()\n",
    "thread_2.join()"
   ]
  },
  {
   "cell_type": "code",
   "execution_count": 1,
   "metadata": {},
   "outputs": [
    {
     "ename": "ValueError",
     "evalue": "invalid literal for int() with base 10: '-f'",
     "output_type": "error",
     "traceback": [
      "\u001b[0;31m---------------------------------------------------------------------------\u001b[0m",
      "\u001b[0;31mValueError\u001b[0m                                Traceback (most recent call last)",
      "\u001b[0;32m<ipython-input-1-217982b4d9b9>\u001b[0m in \u001b[0;36m<module>\u001b[0;34m\u001b[0m\n\u001b[1;32m     45\u001b[0m \u001b[0;34m\u001b[0m\u001b[0m\n\u001b[1;32m     46\u001b[0m \u001b[0;32mif\u001b[0m \u001b[0m__name__\u001b[0m \u001b[0;34m==\u001b[0m \u001b[0;34m'__main__'\u001b[0m\u001b[0;34m:\u001b[0m\u001b[0;34m\u001b[0m\u001b[0;34m\u001b[0m\u001b[0m\n\u001b[0;32m---> 47\u001b[0;31m     \u001b[0mcpu_n_iters\u001b[0m \u001b[0;34m=\u001b[0m \u001b[0mint\u001b[0m\u001b[0;34m(\u001b[0m\u001b[0msys\u001b[0m\u001b[0;34m.\u001b[0m\u001b[0margv\u001b[0m\u001b[0;34m[\u001b[0m\u001b[0;36m1\u001b[0m\u001b[0;34m]\u001b[0m\u001b[0;34m)\u001b[0m\u001b[0;34m\u001b[0m\u001b[0;34m\u001b[0m\u001b[0m\n\u001b[0m\u001b[1;32m     48\u001b[0m     \u001b[0msleep\u001b[0m \u001b[0;34m=\u001b[0m \u001b[0;36m1\u001b[0m\u001b[0;34m\u001b[0m\u001b[0;34m\u001b[0m\u001b[0m\n\u001b[1;32m     49\u001b[0m     \u001b[0mcpu_count\u001b[0m \u001b[0;34m=\u001b[0m \u001b[0mmultiprocessing\u001b[0m\u001b[0;34m.\u001b[0m\u001b[0mcpu_count\u001b[0m\u001b[0;34m(\u001b[0m\u001b[0;34m)\u001b[0m\u001b[0;34m\u001b[0m\u001b[0;34m\u001b[0m\u001b[0m\n",
      "\u001b[0;31mValueError\u001b[0m: invalid literal for int() with base 10: '-f'"
     ]
    }
   ],
   "source": [
    "import multiprocessing\n",
    "import threading\n",
    "import time\n",
    "import sys\n",
    "\n",
    "def cpu_func(result, niters):\n",
    "    '''\n",
    "    A useless CPU bound function.\n",
    "    '''\n",
    "    for i in range(niters):\n",
    "        result = (result * result * i + 2 * result * i * i + 3) % 10000000\n",
    "    return result\n",
    "\n",
    "class CpuThread(threading.Thread):\n",
    "    def __init__(self, niters):\n",
    "        super().__init__()\n",
    "        self.niters = niters\n",
    "        self.result = 1\n",
    "    def run(self):\n",
    "        self.result = cpu_func(self.result, self.niters)\n",
    "\n",
    "class CpuProcess(multiprocessing.Process):\n",
    "    def __init__(self, niters):\n",
    "        super().__init__()\n",
    "        self.niters = niters\n",
    "        self.result = 1\n",
    "    def run(self):\n",
    "        self.result = cpu_func(self.result, self.niters)\n",
    "\n",
    "class IoThread(threading.Thread):\n",
    "    def __init__(self, sleep):\n",
    "        super().__init__()\n",
    "        self.sleep = sleep\n",
    "        self.result = self.sleep\n",
    "    def run(self):\n",
    "        time.sleep(self.sleep)\n",
    "\n",
    "class IoProcess(multiprocessing.Process):\n",
    "    def __init__(self, sleep):\n",
    "        super().__init__()\n",
    "        self.sleep = sleep\n",
    "        self.result = self.sleep\n",
    "    def run(self):\n",
    "        time.sleep(self.sleep)\n",
    "\n",
    "if __name__ == '__main__':\n",
    "    cpu_n_iters = int(sys.argv[1])\n",
    "    sleep = 1\n",
    "    cpu_count = multiprocessing.cpu_count()\n",
    "    input_params = [\n",
    "        (CpuThread, cpu_n_iters),\n",
    "        (CpuProcess, cpu_n_iters),\n",
    "        (IoThread, sleep),\n",
    "        (IoProcess, sleep),\n",
    "    ]\n",
    "    header = ['nthreads']\n",
    "    for thread_class, _ in input_params:\n",
    "        header.append(thread_class.__name__)\n",
    "    print(' '.join(header))\n",
    "    for nthreads in range(1, 2 * cpu_count):\n",
    "        results = [nthreads]\n",
    "        for thread_class, work_size in input_params:\n",
    "            start_time = time.time()\n",
    "            threads = []\n",
    "            for i in range(nthreads):\n",
    "                thread = thread_class(work_size)\n",
    "                threads.append(thread)\n",
    "                thread.start()\n",
    "            for i, thread in enumerate(threads):\n",
    "                thread.join()\n",
    "            results.append(time.time() - start_time)\n",
    "        print(' '.join('{:.6e}'.format(result) for result in results))"
   ]
  },
  {
   "cell_type": "code",
   "execution_count": null,
   "metadata": {},
   "outputs": [],
   "source": []
  }
 ],
 "metadata": {
  "kernelspec": {
   "display_name": "Python 3",
   "language": "python",
   "name": "python3"
  },
  "language_info": {
   "codemirror_mode": {
    "name": "ipython",
    "version": 3
   },
   "file_extension": ".py",
   "mimetype": "text/x-python",
   "name": "python",
   "nbconvert_exporter": "python",
   "pygments_lexer": "ipython3",
   "version": "3.6.9"
  },
  "toc": {
   "base_numbering": 1,
   "nav_menu": {},
   "number_sections": true,
   "sideBar": true,
   "skip_h1_title": false,
   "title_cell": "Table of Contents",
   "title_sidebar": "Contents",
   "toc_cell": false,
   "toc_position": {},
   "toc_section_display": true,
   "toc_window_display": true
  },
  "varInspector": {
   "cols": {
    "lenName": 16,
    "lenType": 16,
    "lenVar": 40
   },
   "kernels_config": {
    "python": {
     "delete_cmd_postfix": "",
     "delete_cmd_prefix": "del ",
     "library": "var_list.py",
     "varRefreshCmd": "print(var_dic_list())"
    },
    "r": {
     "delete_cmd_postfix": ") ",
     "delete_cmd_prefix": "rm(",
     "library": "var_list.r",
     "varRefreshCmd": "cat(var_dic_list()) "
    }
   },
   "types_to_exclude": [
    "module",
    "function",
    "builtin_function_or_method",
    "instance",
    "_Feature"
   ],
   "window_display": false
  }
 },
 "nbformat": 4,
 "nbformat_minor": 2
}
