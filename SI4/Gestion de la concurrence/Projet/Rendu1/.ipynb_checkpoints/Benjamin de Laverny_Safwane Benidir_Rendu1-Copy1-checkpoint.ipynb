{
 "cells": [
  {
   "cell_type": "markdown",
   "metadata": {
    "colab_type": "text",
    "id": "CatGJHmXyyUO"
   },
   "source": [
    "# Notebook Programmation concurrente\n",
    "\n",
    "Safwane Benidir\n",
    "\n",
    "Benjamin de Laverny\n",
    "\n",
    "https://www.codeflow.site/fr/article/python-gil\n",
    "\n",
    "https://colab.research.google.com/drive/1M3i6J4QKgEssUZxZZGqrSnPIPJ1lSYF_?usp=sharing&fbclid=IwAR0qYPC_TaRpSgdTw_ZUVumZXn8NeEueB515mIbzU8jeC5Ljvls9MVqU-VE"
   ]
  },
  {
   "cell_type": "markdown",
   "metadata": {
    "colab_type": "text",
    "id": "9XMwmsY7k425"
   },
   "source": [
    "# Introduction\n",
    "\n",
    "Dans le cadre de notre projet nous devons réaliser des programmes s'exécutant en parallèle. Nous devons alors gérer les éventuels conflits.\n",
    "\n",
    "Le projet se fait en Python. Dans un premier temps nous allons étudier les bibilotèques Python permettant de réaliser du parallélisme.\n",
    "\n",
    "# Bibliothèques Python pour réaliser du parallélisme\n",
    "\n",
    "\n",
    "## Threading\n",
    "\n",
    "La bibliothèque <b>threading</b> utilise des threads pour réaliser du parallélisme.\n",
    "\n",
    "Les threads possèdent un espace mémoire partagé ce qui permet de partager facilement des informations. Cependant il y a un fort risque de conflit lors d'écriture de données. La bibliothèque permet alors l'utilisation de verrou pour protéger les données.\n",
    "\n",
    "Ce système de verrou s'appuie sur le principe du acquire - release. On indique dans un premier temps que le thread prend le verrou s'il est libre, sinon le thread est bloqué. Quand on finit la section critique on peut libérer le verrou et le thread qui était bloqué (s'il y en a un) peut à son tour prendre le verrou.\n",
    "\n",
    "### Avantages\n",
    "On peut facilement partager des données entre threads.\n",
    "\n",
    "Les threads utilisent moins d'espace mémoire car cet espace est partagé entre les threads\n",
    "\n",
    "On peut découper un problème en sous-problème.\n",
    "\n",
    "### Inconvénients\n",
    "Les threads ne bénéficient pas de la présence de plusieurs coeurs sur un processeur. Il n'y a pas de réelle parallélisme.\n",
    "\n",
    "Il faut faire très attention lors de l'écriture du code car il faut vérifier les éventuels conflits. La mémoire étant partagé il y a plus de risque qu'avec du multiprocessing.\n",
    "\n",
    "## Multiprocessing\n",
    "La bibliothèque <b>multiprocessing</b> utilise des processus pour réaliser du parallélisme.\n",
    "\n",
    "La mémoire n'est pas partagée, chaque processus ayant son propre espace mémoire.\n",
    "\n",
    "Il est plus difficile de partager des informations car un processus ne peut pas accéder, en théorie, à l'espace mémoire d'un autre processus. Cependant on pourrait penser à 2 processus s'exécutant en parallèle et essayant d'écrire dans un même fichier. On peut également d'utiliser un pipe, c'est ce que propose la biliothèque multiprocessing. Elle met également à disposition des verrous comme la bibliothèque threading. En effet, une grande partie de l'API de threading se retrouve dans multiprocessing.\n",
    "\n",
    "### Avantages\n",
    "En créant différents processus on peut bénéficier d'un parallélisme physiquement réelle sur un processeur a plusieurs coeurs.\n",
    "\n",
    "Si un processus crash, les autres processus peuvent continuer leur exécution.\n",
    "\n",
    "### Inconvénients\n",
    "La création de nouveau processus nécessite plus de mémoire.\n"
   ]
  },
  {
   "cell_type": "markdown",
   "metadata": {
    "colab_type": "text",
    "id": "dJfeQ-IZlTmd"
   },
   "source": [
    "# Différence entre processus et thread\n",
    "\n",
    "<img src=\"schema_prog_sys.png\">\n",
    "\n",
    "(Schéma du cours de prog_sys)\n",
    "\n",
    "Dans ce schéma nous voyons à gauche un thread seul qui représente donc un processus avec son espace mémoire (pile + registres). Un processus ne peut pas accéder à la mémoire d'un autre processus.\n",
    "\n",
    "À droite nous avons plusieurs threads qui se partagent le même espace mémoire, chacun ayant sa propre pile et ses propres registres. Un thread peut accéder à la mémoire des autres threads."
   ]
  },
  {
   "cell_type": "markdown",
   "metadata": {
    "colab_type": "text",
    "id": "Y-TcVHa9lXL4"
   },
   "source": [
    "\n",
    "## Exemples de codes : partie thread\n",
    "\n",
    "Les deux programmes suivants présentent l'utilisation de la bibliothèque threading.\n",
    "\n",
    "Ces deux programmes proviennent du site openclassroom et ont été légèrement modifié.\n",
    "\n",
    "(https://openclassrooms.com/fr/courses/235344-apprenez-a-programmer-en-python/2235545-faites-de-la-programmation-parallele-avec-threading)\n",
    "\n",
    "Le premier programme lance 2 threads. Le premier thread affiche les lettres du mot \"canard\" et le deuxième thread affiche les lettres du mot \"TORTUE\". À l'exécution on voit les lettres s'afficher dans le désordre. Ce n'est pas un mot puis un autre qui sont affichés. Les threads sont exécutés en parallèle. C'est l'OS qui va choisir de donner la main à tel ou tel thread.\n",
    "\n",
    "L'ajout d'une quantité aléatoire à la variable attente permet de mettre en évidence que ce n'est pas le programmeur qui choisit quel thread va s'exécuter à un moment donné. En effet un thread peut afficher une ou plusieurs lettres selon ce que l'OS va lui autoriser comme temps d'exécution."
   ]
  },
  {
   "cell_type": "markdown",
   "metadata": {
    "colab_type": "text",
    "id": "u22FlLcK9_pZ"
   },
   "source": [
    "Si l'on veut qu'un thread affiche le mot en entier sans coupure il faut indiquer quelle partie du code doit s'exécuter sans interruption : c'est une section critique. Pour cela on peut utiliser des verrous. C'est l'exemple du deuxième programme ci-dessous.\n",
    "\n",
    "La section critique de ce programme correspond à la boucle for car c'est à ce moment que l'on va écrire sur la sortie standard. On indique alors au thread de prendre le verrou avec l'objet Lock et la fonction Lock.acquire(). Les autres threads sont bloqués et ne peuvent pas écrire. Quand on a fini d'écrire un mot on libère le verrou avec la fonction Lock.release()."
   ]
  },
  {
   "cell_type": "markdown",
   "metadata": {
    "colab_type": "text",
    "id": "mJuco37K4ayg"
   },
   "source": [
    "## Exemples de codes : partie multiprocessus\n",
    "\n",
    "Les deux programmes suivants présentent l'utilisation de la bibliothèque multiprocessing.\n",
    "\n",
    "Ces deux programmes proviennent du site medium.com et ont été légèrement modifié.\n",
    "\n",
    "(https://medium.com/swlh/protect-your-shared-resource-using-multiprocessing-locks-in-python-21fc90ad5af1)\n",
    "\n",
    "Le premier programme lance 2 processus. Le premier processus incrémente une variable partagée (grâce à l'objet Value). Le deuxième processus décrémente cette même variable. On incrémente autant que l'on décrémente. On s'attend à ce que la variable aie la même valeur au début et à la fin du programme. Mais ce n'est pas le cas, la valeur varie d'une exécution à l'autre. \n",
    "\n",
    "Le problème est que pendant la mise à jour de la valeur de la variable par une des 2 fonctions, l'autre fonction va accéder à l'ancienne valeur de cette variable. La première fonction n'a pas encore écrit la nouvelle valeur et la deuxième fonction va faire son calcul à partir de cette ancienne valeur. C'est la deuxième fonction qui va écrire en dernier et qui aura donc ommis le calcul de la première fonction."
   ]
  },
  {
   "cell_type": "code",
   "execution_count": null,
   "metadata": {
    "colab": {
     "base_uri": "https://localhost:8080/",
     "height": 34
    },
    "colab_type": "code",
    "id": "ecTfKl9Y4fhh",
    "outputId": "4424d195-0d07-4810-bfd7-3c523b3d8752"
   },
   "outputs": [],
   "source": [
    "import multiprocessing as mp\n",
    "import time\n",
    "import random\n",
    "\n",
    "def increase(balance):\n",
    "    for i in range(5000):\n",
    "        balance.value = balance.value + 1\n",
    "        \n",
    "def decrease(balance):\n",
    "    for i in range(5000):\n",
    "        balance.value = balance.value - 1\n",
    "        \n",
    "def main():\n",
    "    balance = mp.Value('i',5000)\n",
    "    p1 = mp.Process(target=increase, args=(balance,))\n",
    "    p2 = mp.Process(target=decrease, args=(balance,))\n",
    "    p1.start()\n",
    "    p2.start()\n",
    "    p1.join()\n",
    "    p2.join()\n",
    "    print(balance.value)\n",
    "        \n",
    "main()"
   ]
  },
  {
   "cell_type": "markdown",
   "metadata": {
    "colab_type": "text",
    "id": "2__e_lPjYZvo"
   },
   "source": [
    "Si on veut éviter ce problème il faut, par exemple, ajouter un verrou. Comme précédemment on identifie la section critique, ici cela correspond à ces 2 lignes de code :\n",
    "\n",
    "balance.value = balance.value + 1\n",
    "balance.value = balance.value - 1\n",
    "\n",
    "On prend le verrou juste avant et on le rend juste après avec les mêmes fonctions que pour les threads (Lock.acquire et Lock.release)."
   ]
  },
  {
   "cell_type": "code",
   "execution_count": null,
   "metadata": {
    "colab": {
     "base_uri": "https://localhost:8080/",
     "height": 34
    },
    "colab_type": "code",
    "id": "-L7x0WEWU5ui",
    "outputId": "6147c0cc-8003-41eb-8c99-6963063e0423"
   },
   "outputs": [],
   "source": [
    "import multiprocessing as mp\n",
    "import time\n",
    "import random\n",
    "\n",
    "def increase(balance,lock):\n",
    "    for i in range(5000):\n",
    "        # on prend le verrou\n",
    "        lock.acquire()\n",
    "        # section critique\n",
    "        balance.value = balance.value + 1\n",
    "        # fin de la section critique on rend le verrou\n",
    "        lock.release()\n",
    "        \n",
    "def decrease(balance,lock):\n",
    "    for i in range(5000):\n",
    "        # on prend le verrou\n",
    "        lock.acquire()\n",
    "        # section critique\n",
    "        balance.value = balance.value - 1\n",
    "        # fin de la section critique on rend le verrou\n",
    "        lock.release()\n",
    "        \n",
    "def main():\n",
    "    balance = mp.Value('i',5000)\n",
    "    lock = mp.Lock()\n",
    "    p1 = mp.Process(target=increase, args=(balance,lock))\n",
    "    p2 = mp.Process(target=decrease, args=(balance,lock))\n",
    "    p1.start()\n",
    "    p2.start()\n",
    "    p1.join()\n",
    "    p2.join()\n",
    "    print(balance.value)\n",
    "        \n",
    "main()"
   ]
  },
  {
   "cell_type": "markdown",
   "metadata": {
    "colab_type": "text",
    "id": "n22XUrTDZPe5"
   },
   "source": [
    "# Conclusion\n",
    "\n",
    "Python propose différents outils afin de réaliser du parallélisme tout en s'assurant que la propriété de sûreté soit vérifiée. Il nous reste à étudier le sujet précisément pour décider quelle bibliothèque sera la plus adaptée."
   ]
  },
  {
   "cell_type": "markdown",
   "metadata": {},
   "source": [
    "imports"
   ]
  },
  {
   "cell_type": "code",
   "execution_count": null,
   "metadata": {},
   "outputs": [],
   "source": [
    "import multiprocessing as mp\n",
    "import threading as th\n",
    "import time\n",
    "import os\n",
    "import sys"
   ]
  },
  {
   "cell_type": "code",
   "execution_count": 27,
   "metadata": {},
   "outputs": [],
   "source": [
    "N=10000000\n",
    "\n",
    "def createProcess(n,fonction=None,args=()):\n",
    "    p=[]\n",
    "    a=time.time()\n",
    "    for i in range(n):\n",
    "        p.append(mp.Process(target=fonction,args=args))\n",
    "        p[i].start()\n",
    "    for i in range(n):\n",
    "        p[i].join()\n",
    "    print()\n",
    "    print(\"temps global = \",time.time()-a)\n",
    "    \n",
    "\n",
    "def createThread(n,fonction=None,args=()):\n",
    "    t=[]\n",
    "    a=time.time()\n",
    "    for i in range(n):\n",
    "        t.append(th.Thread(target=fonction,args=args))\n",
    "        t[i].start()\n",
    "    for i in range(n):\n",
    "        t[i].join()\n",
    "    print()\n",
    "    print(\"temps global = \", time.time()-a)\n",
    "    \n",
    "    \n",
    "def entrelacement(mot):\n",
    "    for lettre in mot:\n",
    "        sys.stdout.write(lettre)\n",
    "        sys.stdout.flush()\n",
    "        \n",
    "        \n",
    "def entrelacement_safe(mot,lock):\n",
    "    lock.acquire()\n",
    "    for lettre in mot:\n",
    "        sys.stdout.write(lettre)\n",
    "        sys.stdout.flush()\n",
    "    lock.release()\n",
    "        \n",
    "\n",
    "def core(n,lock):\n",
    "    a=time.time()\n",
    "    for i in range(n):\n",
    "        pass\n",
    "    lock.acquire()\n",
    "    print(time.time()-a)\n",
    "    lock.release()\n",
    "    \n",
    "    \n",
    "def temoin_core(n,args):\n",
    "    a=time.time()\n",
    "    for i in range(n):\n",
    "        core(args)\n",
    "    print(\"temps global = \",time.time()-a)\n",
    "    \n",
    "\n",
    "def increase(balance):\n",
    "    for i in range(5000):\n",
    "        balance = balance + 1\n",
    "        \n",
    "def decrease(balance):\n",
    "    for i in range(5000):\n",
    "        balance = balance - 1\n",
    "        \n",
    "def increase_safe(balance,lock):\n",
    "    for i in range(5000):\n",
    "        # on prend le verrou\n",
    "        lock.acquire()\n",
    "        # section critique\n",
    "        balance = balance + 1\n",
    "        # fin de la section critique on rend le verrou\n",
    "        lock.release()\n",
    "        \n",
    "def decrease_safe(balance,lock):\n",
    "    for i in range(5000):\n",
    "        # on prend le verrou\n",
    "        lock.acquire()\n",
    "        # section critique\n",
    "        balance = balance - 1\n",
    "        # fin de la section critique on rend le verrou\n",
    "        lock.release()\n",
    "        \n",
    "def pid(lock):\n",
    "    lock.acquire()\n",
    "    print('parent process:', os.getppid())\n",
    "    print('process id:', os.getpid())\n",
    "    lock.release()"
   ]
  },
  {
   "cell_type": "code",
   "execution_count": null,
   "metadata": {},
   "outputs": [],
   "source": [
    "createProcess(5)"
   ]
  },
  {
   "cell_type": "code",
   "execution_count": null,
   "metadata": {},
   "outputs": [],
   "source": [
    "createThread(5)"
   ]
  },
  {
   "cell_type": "code",
   "execution_count": 22,
   "metadata": {},
   "outputs": [
    {
     "name": "stdout",
     "output_type": "stream",
     "text": [
      "parent process: 15849\n",
      "process id: 16511\n",
      "parent process: 15849\n",
      "process id: 16514\n",
      "parent process: 15849\n",
      "process id: 16521\n",
      "\n",
      "temps global =  0.06296777725219727\n"
     ]
    }
   ],
   "source": [
    "createProcess(3,pid,(lock,))"
   ]
  },
  {
   "cell_type": "code",
   "execution_count": 23,
   "metadata": {},
   "outputs": [
    {
     "name": "stdout",
     "output_type": "stream",
     "text": [
      "parent process: 2320\n",
      "process id: 15849\n",
      "parent process: 2320\n",
      "process id: 15849\n",
      "parent process: 2320\n",
      "process id: 15849\n",
      "\n",
      "temps global =  0.003160715103149414\n"
     ]
    }
   ],
   "source": [
    "createThread(3,pid,(lock,))"
   ]
  },
  {
   "cell_type": "code",
   "execution_count": null,
   "metadata": {},
   "outputs": [],
   "source": [
    "createProcess(5,entrelacement,(\"bonjour \",)) # problème"
   ]
  },
  {
   "cell_type": "code",
   "execution_count": null,
   "metadata": {},
   "outputs": [],
   "source": [
    "createThread(10,entrelacement,(\"bonjour \",))"
   ]
  },
  {
   "cell_type": "code",
   "execution_count": null,
   "metadata": {},
   "outputs": [],
   "source": [
    "lock=mp.Lock()\n",
    "createProcess(5,entrelacement_safe,(\"bonjour \",lock,)) # pas de problème"
   ]
  },
  {
   "cell_type": "code",
   "execution_count": null,
   "metadata": {},
   "outputs": [],
   "source": [
    "lock=th.Lock()\n",
    "createThread(10,entrelacement_safe,(\"bonjour \",lock))"
   ]
  },
  {
   "cell_type": "code",
   "execution_count": null,
   "metadata": {},
   "outputs": [],
   "source": [
    "createProcess(10,core,(N,lock))"
   ]
  },
  {
   "cell_type": "code",
   "execution_count": null,
   "metadata": {},
   "outputs": [],
   "source": [
    "createThread(10,core,(N,lock))"
   ]
  },
  {
   "cell_type": "code",
   "execution_count": 26,
   "metadata": {},
   "outputs": [
    {
     "name": "stderr",
     "output_type": "stream",
     "text": [
      "Process Process-51:\n",
      "Traceback (most recent call last):\n",
      "  File \"/usr/lib/python3.6/multiprocessing/process.py\", line 258, in _bootstrap\n",
      "    self.run()\n",
      "  File \"/usr/lib/python3.6/multiprocessing/process.py\", line 93, in run\n",
      "    self._target(*self._args, **self._kwargs)\n",
      "  File \"<ipython-input-19-63ad82c617ab>\", line 59, in increase\n",
      "    balance.value = balance.value + 1\n",
      "AttributeError: 'int' object has no attribute 'value'\n"
     ]
    },
    {
     "name": "stdout",
     "output_type": "stream",
     "text": [
      "\n",
      "temps global =  0.020959854125976562\n"
     ]
    },
    {
     "name": "stderr",
     "output_type": "stream",
     "text": [
      "Process Process-52:\n",
      "Traceback (most recent call last):\n",
      "  File \"/usr/lib/python3.6/multiprocessing/process.py\", line 258, in _bootstrap\n",
      "    self.run()\n",
      "  File \"/usr/lib/python3.6/multiprocessing/process.py\", line 93, in run\n",
      "    self._target(*self._args, **self._kwargs)\n",
      "  File \"<ipython-input-19-63ad82c617ab>\", line 63, in decrease\n",
      "    balance.value = balance.value - 1\n",
      "AttributeError: 'int' object has no attribute 'value'\n"
     ]
    },
    {
     "name": "stdout",
     "output_type": "stream",
     "text": [
      "\n",
      "temps global =  0.023340463638305664\n"
     ]
    }
   ],
   "source": [
    "balance=5000\n",
    "createProcess(1,increase,(balance,))\n",
    "createProcess(1,decrease,(balance,))"
   ]
  }
 ],
 "metadata": {
  "colab": {
   "collapsed_sections": [],
   "name": "Notebook prog conc",
   "provenance": []
  },
  "kernelspec": {
   "display_name": "Python 3",
   "language": "python",
   "name": "python3"
  },
  "language_info": {
   "codemirror_mode": {
    "name": "ipython",
    "version": 3
   },
   "file_extension": ".py",
   "mimetype": "text/x-python",
   "name": "python",
   "nbconvert_exporter": "python",
   "pygments_lexer": "ipython3",
   "version": "3.6.9"
  },
  "toc": {
   "base_numbering": 1,
   "nav_menu": {},
   "number_sections": true,
   "sideBar": true,
   "skip_h1_title": false,
   "title_cell": "Table of Contents",
   "title_sidebar": "Contents",
   "toc_cell": false,
   "toc_position": {},
   "toc_section_display": true,
   "toc_window_display": false
  },
  "varInspector": {
   "cols": {
    "lenName": 16,
    "lenType": 16,
    "lenVar": 40
   },
   "kernels_config": {
    "python": {
     "delete_cmd_postfix": "",
     "delete_cmd_prefix": "del ",
     "library": "var_list.py",
     "varRefreshCmd": "print(var_dic_list())"
    },
    "r": {
     "delete_cmd_postfix": ") ",
     "delete_cmd_prefix": "rm(",
     "library": "var_list.r",
     "varRefreshCmd": "cat(var_dic_list()) "
    }
   },
   "types_to_exclude": [
    "module",
    "function",
    "builtin_function_or_method",
    "instance",
    "_Feature"
   ],
   "window_display": false
  }
 },
 "nbformat": 4,
 "nbformat_minor": 1
}
