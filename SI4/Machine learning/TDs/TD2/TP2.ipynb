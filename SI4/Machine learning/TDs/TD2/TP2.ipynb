{
 "cells": [
  {
   "cell_type": "markdown",
   "metadata": {},
   "source": [
    "# TP regression logistique\n",
    "## les données: MNIST"
   ]
  },
  {
   "cell_type": "code",
   "execution_count": 1,
   "metadata": {},
   "outputs": [],
   "source": [
    "#imports nécessaires pour la suite\n",
    "import matplotlib.pyplot as plt\n",
    "import numpy as np\n",
    "from sklearn import ensemble\n",
    "from sklearn.metrics import confusion_matrix, plot_confusion_matrix, f1_score\n",
    "from sklearn.utils import shuffle"
   ]
  },
  {
   "cell_type": "code",
   "execution_count": 70,
   "metadata": {},
   "outputs": [],
   "source": [
    "# reading the dataset\n",
    "from tensorflow.keras.datasets import mnist\n",
    "(x_train, y_train), (x_test, y_test) = mnist.load_data()\n",
    "# you can change the classes\n",
    "class1 = 1\n",
    "class2 = 3\n",
    "nameClass1 = '1'\n",
    "nameClass2 = '3'\n",
    "\n",
    "## TRAIN\n",
    "#class 1: positives\n",
    "x_train1 = x_train[y_train==class1,:]\n",
    "#class 2: negatives\n",
    "x_train2 = x_train[y_train==class2,:]\n",
    "# merging the 2 classes and shuffle\n",
    "x_trainBinaire = np.append(x_train1,x_train2,axis=0)\n",
    "y_trainBinaire = np.append(np.full(len(x_train1),-1), np.full(len(x_train2),1))\n",
    "(x_trainBinaire,y_trainBinaire) = shuffle(x_trainBinaire,y_trainBinaire,random_state=0)\n",
    "\n",
    "## TEST\n",
    "#class 1: positives\n",
    "x_test1 = x_test[y_test==class1,:]\n",
    "#class 2: negatives\n",
    "x_test2 = x_test[y_test==class2,:]\n",
    "# merging the 2 classes and shuffle\n",
    "x_testBinaire = np.append(x_test1,x_test2,axis=0)\n",
    "y_testBinaire = np.append(np.full(len(x_test1),-1), np.full(len(x_test2),1))\n",
    "(x_testBinaire,y_testBinaire) = shuffle(x_testBinaire,y_testBinaire,random_state=0)"
   ]
  },
  {
   "cell_type": "markdown",
   "metadata": {},
   "source": [
    "# Retour sur le boosting, soit directement sur les données, soit avec filtres de Haar"
   ]
  },
  {
   "cell_type": "markdown",
   "metadata": {},
   "source": [
    "## boosting binaire le + simple, directement sur les données\n",
    "Pour cela, on va tout de même linéariser les images:"
   ]
  },
  {
   "cell_type": "code",
   "execution_count": 71,
   "metadata": {},
   "outputs": [
    {
     "name": "stdout",
     "output_type": "stream",
     "text": [
      "(12873, 28, 28)\n"
     ]
    }
   ],
   "source": [
    "#train\n",
    "n = x_trainBinaire.shape[0]\n",
    "x_trainBinaireLin = x_trainBinaire.reshape(n,-1)\n",
    "print(x_trainBinaire.shape)\n",
    "#test\n",
    "n = x_testBinaire.shape[0]\n",
    "x_testBinaireLin = x_testBinaire.reshape(n,-1)"
   ]
  },
  {
   "cell_type": "code",
   "execution_count": 72,
   "metadata": {},
   "outputs": [
    {
     "name": "stdout",
     "output_type": "stream",
     "text": [
      "learned\n"
     ]
    },
    {
     "data": {
      "text/plain": [
       "Text(0.5, 1.0, 'Matrice de confusion')"
      ]
     },
     "execution_count": 72,
     "metadata": {},
     "output_type": "execute_result"
    },
    {
     "data": {
      "image/png": "[encoded data removed]",
      "text/plain": [
       "<Figure size 432x288 with 2 Axes>"
      ]
     },
     "metadata": {
      "needs_background": "light"
     },
     "output_type": "display_data"
    }
   ],
   "source": [
    "## apprentissage par boosting (Adaboost)\n",
    "# création de l'object boosting\n",
    "myboosting = ensemble.AdaBoostClassifier(n_estimators=50, learning_rate=1, algorithm='SAMME.R')\n",
    "# apprentissage sur les données 'train'\n",
    "myboosting.fit(x_trainBinaireLin,y_trainBinaire)\n",
    "print(\"learned\")\n",
    "\n",
    "y_predBinaireTest = myboosting.predict(x_testBinaireLin)\n",
    "\n",
    "disp = plot_confusion_matrix(myboosting, x_testBinaireLin, y_testBinaire,\n",
    "                                 display_labels=[nameClass1,nameClass2],\n",
    "                                 cmap=plt.cm.Blues,\n",
    "                                 normalize=None)\n",
    "disp.ax_.set_title('Matrice de confusion')"
   ]
  },
  {
   "cell_type": "markdown",
   "metadata": {},
   "source": [
    "Que vaut le score F1?"
   ]
  },
  {
   "cell_type": "code",
   "execution_count": 73,
   "metadata": {},
   "outputs": [
    {
     "name": "stdout",
     "output_type": "stream",
     "text": [
      "F1 score :  0.9891518737672582\n"
     ]
    }
   ],
   "source": [
    "print(\"F1 score : \", f1_score(y_predBinaireTest,y_testBinaire))"
   ]
  },
  {
   "cell_type": "markdown",
   "metadata": {},
   "source": [
    "F1 = 0.9892891918208374"
   ]
  },
  {
   "cell_type": "markdown",
   "metadata": {},
   "source": [
    "## boosting binaire en utilisant les filtres de Haar\n",
    "La première étape va préparer les données avant l'algorithme de boosting."
   ]
  },
  {
   "cell_type": "markdown",
   "metadata": {},
   "source": [
    "### filtres de Haar"
   ]
  },
  {
   "cell_type": "markdown",
   "metadata": {},
   "source": [
    "Pour appliquer les filtres de Haar sur les images (2D), il faut re-exécuter toutes les cellules du début SAUF celle qui applatit les images en 1D."
   ]
  },
  {
   "cell_type": "code",
   "execution_count": 74,
   "metadata": {},
   "outputs": [],
   "source": [
    "# imports nécessaires\n",
    "from skimage import feature\n",
    "from skimage import transform"
   ]
  },
  {
   "cell_type": "markdown",
   "metadata": {},
   "source": [
    "Pour les filtres de Haar, soit on les génère automatiquement par la librairie, soit on les construit soi-même."
   ]
  },
  {
   "cell_type": "code",
   "execution_count": 75,
   "metadata": {},
   "outputs": [
    {
     "name": "stdout",
     "output_type": "stream",
     "text": [
      "(80,)\n"
     ]
    }
   ],
   "source": [
    "# génération automatique à partir de 2 types:\n",
    "#       'type-2-x' et 'type-2-y'\n",
    "# et dimensions des images: 28x28\n",
    "# 1 filtre sur 200 pour réduire le nombre de filtres\n",
    "feat_coord, feat_type = feature.haar_like_feature_coord(28,28, ['type-2-x','type-2-y'])\n",
    "feat_coord = feat_coord[::2000]\n",
    "feat_type = feat_type[::2000]\n",
    "print(feat_coord.shape)\n"
   ]
  },
  {
   "cell_type": "code",
   "execution_count": 76,
   "metadata": {},
   "outputs": [
    {
     "name": "stderr",
     "output_type": "stream",
     "text": [
      "100%|██████████| 12873/12873 [00:10<00:00, 1276.79it/s]\n",
      "100%|██████████| 2145/2145 [00:00<00:00, 4784.77it/s]\n"
     ]
    }
   ],
   "source": [
    "from tqdm import tqdm\n",
    "# transformation des images: on applique tous les filtres\n",
    "cpt=0\n",
    "\n",
    "for image in tqdm(x_trainBinaire):\n",
    "    # calcul de l'image intégrale\n",
    "    int_image = transform.integral_image(image)\n",
    "    # calcul des filtre de Haar\n",
    "    features = feature.haar_like_feature(int_image, 0, 0, 28, 28,feature_type=feat_type,feature_coord=feat_coord)\n",
    "    if cpt == 0:\n",
    "        ftrainBinaire1 = [features]\n",
    "    else:\n",
    "        ftrainBinaire1 = np.append(ftrainBinaire1,[features],axis=0)\n",
    "    cpt += 1\n",
    "    \n",
    "cpt = 0    \n",
    "for image in tqdm(x_testBinaire):\n",
    "    # calcul de l'image intégrale\n",
    "    int_image = transform.integral_image(image)\n",
    "    # calcul des filtre de Haar\n",
    "    features = feature.haar_like_feature(int_image, 0, 0, 28, 28,feature_type=feat_type,feature_coord=feat_coord)\n",
    "    if cpt == 0:\n",
    "        ftestBinaire1 = [features]\n",
    "    else:\n",
    "        ftestBinaire1 = np.append(ftestBinaire1,[features],axis=0)\n",
    "    cpt += 1\n",
    "    \n",
    "        "
   ]
  },
  {
   "cell_type": "code",
   "execution_count": 77,
   "metadata": {},
   "outputs": [
    {
     "data": {
      "text/plain": [
       "AdaBoostClassifier(learning_rate=1)"
      ]
     },
     "execution_count": 77,
     "metadata": {},
     "output_type": "execute_result"
    }
   ],
   "source": [
    "## apprentissage par boosting (Adaboost)\n",
    "# création de l'object boosting\n",
    "myboostingHaar1 = ensemble.AdaBoostClassifier(n_estimators=50, learning_rate=1, algorithm='SAMME.R')\n",
    "# apprentissage sur les données 'train'\n",
    "myboostingHaar1.fit(ftrainBinaire1,y_trainBinaire)\n"
   ]
  },
  {
   "cell_type": "code",
   "execution_count": 26,
   "metadata": {},
   "outputs": [
    {
     "name": "stdout",
     "output_type": "stream",
     "text": [
      "(1920,)\n",
      "(1920, 80)\n",
      "(1920,)\n",
      "F1 score :  0.9951267056530215\n"
     ]
    },
    {
     "data": {
      "image/png": "[encoded data removed]",
      "text/plain": [
       "<Figure size 432x288 with 2 Axes>"
      ]
     },
     "metadata": {
      "needs_background": "light"
     },
     "output_type": "display_data"
    }
   ],
   "source": [
    "# calcul de la matrice de confusion et affichage\n",
    "\n",
    "y_predBinaire = myboostingHaar1.predict(ftestBinaire1)\n",
    "print(y_predBinaire.shape)\n",
    "print(ftestBinaire1.shape)\n",
    "print(y_testBinaire.shape)\n",
    "disp = plot_confusion_matrix(myboostingHaar1, ftestBinaire1, y_testBinaire,\n",
    "                                 display_labels=[nameClass1, nameClass2],\n",
    "                                 cmap=plt.cm.Blues,\n",
    "                                 normalize=None)\n",
    "disp.ax_.set_title('Matrice de confusion')\n",
    "print(\"F1 score : \", f1_score(y_predBinaire,y_testBinaire))"
   ]
  },
  {
   "cell_type": "markdown",
   "metadata": {},
   "source": [
    "Quelle approche donne de meilleurs résultats ? Pourquoi ?"
   ]
  },
  {
   "cell_type": "markdown",
   "metadata": {},
   "source": [
    "F1 = 0.9965969859017988 en prenant 1 filtre sur 200\n",
    "\n",
    "F1 = 0.9951267056530215 en prenant 1 filtre sur 2000\n",
    "\n",
    "Les résultats avec les filtres de haar ou sans sont quasiment identiques (légèrement avec les filtres). On voit aussi que le score est le même que l'on prenne 1 filtre sur 200 ou 1 filtre 2000.\n",
    "\n",
    "Cependant le calcul des filtres prend du temps, il n'est très intéressant de l'utiliser ici.\n",
    "\n",
    "F1 max = 1 donc il n'y a pas beaucoup de marge d'amélioration. De plus les images sont ici assez simples. Les filtres ont pour but de révéler des patterns plus complexes. Donc ici ce n'est pas nécessaire de les utiliser.\n"
   ]
  },
  {
   "cell_type": "markdown",
   "metadata": {},
   "source": [
    "# Régression logistique"
   ]
  },
  {
   "cell_type": "markdown",
   "metadata": {},
   "source": [
    "https://scikit-learn.org/stable/modules/generated/sklearn.linear_model.LogisticRegression.html#sklearn.linear_model.LogisticRegression"
   ]
  },
  {
   "cell_type": "code",
   "execution_count": 12,
   "metadata": {},
   "outputs": [],
   "source": [
    "from sklearn.linear_model import LogisticRegression"
   ]
  },
  {
   "cell_type": "markdown",
   "metadata": {},
   "source": [
    "## Régression logistique sur les données brutes"
   ]
  },
  {
   "cell_type": "code",
   "execution_count": 78,
   "metadata": {},
   "outputs": [
    {
     "name": "stdout",
     "output_type": "stream",
     "text": [
      "learning done\n"
     ]
    },
    {
     "name": "stderr",
     "output_type": "stream",
     "text": [
      "/home/safwane/.local/lib/python3.6/site-packages/sklearn/linear_model/_logistic.py:764: ConvergenceWarning: lbfgs failed to converge (status=1):\n",
      "STOP: TOTAL NO. of ITERATIONS REACHED LIMIT.\n",
      "\n",
      "Increase the number of iterations (max_iter) or scale the data as shown in:\n",
      "    https://scikit-learn.org/stable/modules/preprocessing.html\n",
      "Please also refer to the documentation for alternative solver options:\n",
      "    https://scikit-learn.org/stable/modules/linear_model.html#logistic-regression\n",
      "  extra_warning_msg=_LOGISTIC_SOLVER_CONVERGENCE_MSG)\n"
     ]
    }
   ],
   "source": [
    "#default constructor\n",
    "myRegLog = LogisticRegression()\n",
    "#myRegLog = LogisticRegression(penalty=\"elasticnet\",solver=\"saga\",l1_ratio=0.5)\n",
    "#learning\n",
    "myRegLog.fit(x_trainBinaireLin,y_trainBinaire)\n",
    "print(\"learning done\")\n"
   ]
  },
  {
   "cell_type": "markdown",
   "metadata": {},
   "source": [
    "Un message d'erreur a du s'afficher. Que signifie t-il ? Vous pouvez néanmoins afficher les performances sur la base de test:"
   ]
  },
  {
   "cell_type": "code",
   "execution_count": 79,
   "metadata": {
    "scrolled": true
   },
   "outputs": [
    {
     "name": "stdout",
     "output_type": "stream",
     "text": [
      "F1 score :  0.9910625620655412\n"
     ]
    },
    {
     "data": {
      "image/png": "[encoded data removed]",
      "text/plain": [
       "<Figure size 432x288 with 2 Axes>"
      ]
     },
     "metadata": {
      "needs_background": "light"
     },
     "output_type": "display_data"
    }
   ],
   "source": [
    "y_predBinaireTest = myRegLog.predict(x_testBinaireLin)\n",
    "\n",
    "disp = plot_confusion_matrix(myRegLog, x_testBinaireLin, y_testBinaire,\n",
    "                                 display_labels=[nameClass1,nameClass2],\n",
    "                                 cmap=plt.cm.Blues,\n",
    "                                 normalize=None)\n",
    "disp.ax_.set_title('Matrice de confusion')\n",
    "print(\"F1 score : \", f1_score(y_predBinaireTest,y_testBinaire))"
   ]
  },
  {
   "cell_type": "markdown",
   "metadata": {},
   "source": [
    "Rien ne change le score"
   ]
  },
  {
   "cell_type": "markdown",
   "metadata": {},
   "source": [
    "La régression logistique a été construite avec tous les paramètres par défaut. Suivez les recommandations du message d'erreur et testez les différents paramètres:\n",
    "- terminaison de l'algorithme: nombre d'itérations maximal, ...\n",
    "- prétraitement des données: normalisation\n",
    "- solveur\n",
    "- régularisation\n",
    "Obtenez-vous de meilleurs résultats?"
   ]
  },
  {
   "cell_type": "markdown",
   "metadata": {},
   "source": [
    "## Régression logistique sur les données après filtres de Haar"
   ]
  },
  {
   "cell_type": "code",
   "execution_count": 80,
   "metadata": {},
   "outputs": [
    {
     "name": "stdout",
     "output_type": "stream",
     "text": [
      "learning done\n",
      "F1 score :  0.9945463559742191\n"
     ]
    },
    {
     "name": "stderr",
     "output_type": "stream",
     "text": [
      "/home/safwane/.local/lib/python3.6/site-packages/sklearn/linear_model/_logistic.py:764: ConvergenceWarning: lbfgs failed to converge (status=1):\n",
      "STOP: TOTAL NO. of ITERATIONS REACHED LIMIT.\n",
      "\n",
      "Increase the number of iterations (max_iter) or scale the data as shown in:\n",
      "    https://scikit-learn.org/stable/modules/preprocessing.html\n",
      "Please also refer to the documentation for alternative solver options:\n",
      "    https://scikit-learn.org/stable/modules/linear_model.html#logistic-regression\n",
      "  extra_warning_msg=_LOGISTIC_SOLVER_CONVERGENCE_MSG)\n"
     ]
    },
    {
     "data": {
      "image/png": "[encoded data removed]",
      "text/plain": [
       "<Figure size 432x288 with 2 Axes>"
      ]
     },
     "metadata": {
      "needs_background": "light"
     },
     "output_type": "display_data"
    }
   ],
   "source": [
    "# à vous de jouer\n",
    "\n",
    "myRegLog.fit(ftrainBinaire1,y_trainBinaire)\n",
    "print(\"learning done\")\n",
    "\n",
    "y_predBinaireTest = myRegLog.predict(ftestBinaire1)\n",
    "\n",
    "disp = plot_confusion_matrix(myRegLog, ftestBinaire1, y_testBinaire,\n",
    "                                 display_labels=[nameClass1,nameClass2],\n",
    "                                 cmap=plt.cm.Blues,\n",
    "                                 normalize=None)\n",
    "disp.ax_.set_title('Matrice de confusion')\n",
    "print(\"F1 score : \", f1_score(y_predBinaireTest,y_testBinaire))"
   ]
  },
  {
   "cell_type": "code",
   "execution_count": null,
   "metadata": {},
   "outputs": [],
   "source": [
    "# Comparez les différents résultats et concluez."
   ]
  }
 ],
 "metadata": {
  "kernelspec": {
   "display_name": "Python 3",
   "language": "python",
   "name": "python3"
  },
  "language_info": {
   "codemirror_mode": {
    "name": "ipython",
    "version": 3
   },
   "file_extension": ".py",
   "mimetype": "text/x-python",
   "name": "python",
   "nbconvert_exporter": "python",
   "pygments_lexer": "ipython3",
   "version": "3.6.9"
  },
  "toc": {
   "base_numbering": 1,
   "nav_menu": {},
   "number_sections": true,
   "sideBar": true,
   "skip_h1_title": false,
   "title_cell": "Table of Contents",
   "title_sidebar": "Contents",
   "toc_cell": false,
   "toc_position": {},
   "toc_section_display": true,
   "toc_window_display": false
  },
  "varInspector": {
   "cols": {
    "lenName": 16,
    "lenType": 16,
    "lenVar": 40
   },
   "kernels_config": {
    "python": {
     "delete_cmd_postfix": "",
     "delete_cmd_prefix": "del ",
     "library": "var_list.py",
     "varRefreshCmd": "print(var_dic_list())"
    },
    "r": {
     "delete_cmd_postfix": ") ",
     "delete_cmd_prefix": "rm(",
     "library": "var_list.r",
     "varRefreshCmd": "cat(var_dic_list()) "
    }
   },
   "types_to_exclude": [
    "module",
    "function",
    "builtin_function_or_method",
    "instance",
    "_Feature"
   ],
   "window_display": false
  }
 },
 "nbformat": 4,
 "nbformat_minor": 2
}
