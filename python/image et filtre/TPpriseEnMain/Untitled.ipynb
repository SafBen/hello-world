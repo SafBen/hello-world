{
 "cells": [
  {
   "cell_type": "code",
   "execution_count": 5,
   "metadata": {},
   "outputs": [
    {
     "name": "stdout",
     "output_type": "stream",
     "text": [
      "Help on built-in function waitKey:\n",
      "\n",
      "waitKey(...)\n",
      "    waitKey([, delay]) -> retval\n",
      "    .   @brief Waits for a pressed key.\n",
      "    .   \n",
      "    .   The function waitKey waits for a key event infinitely (when \\f$\\texttt{delay}\\leq 0\\f$ ) or for delay\n",
      "    .   milliseconds, when it is positive. Since the OS has a minimum time between switching threads, the\n",
      "    .   function will not wait exactly delay ms, it will wait at least delay ms, depending on what else is\n",
      "    .   running on your computer at that time. It returns the code of the pressed key or -1 if no key was\n",
      "    .   pressed before the specified time had elapsed.\n",
      "    .   \n",
      "    .   @note\n",
      "    .   \n",
      "    .   This function is the only method in HighGUI that can fetch and handle events, so it needs to be\n",
      "    .   called periodically for normal event processing unless HighGUI is used within an environment that\n",
      "    .   takes care of event processing.\n",
      "    .   \n",
      "    .   @note\n",
      "    .   \n",
      "    .   The function only works if there is at least one HighGUI window created and the window is active.\n",
      "    .   If there are several HighGUI windows, any of them can be active.\n",
      "    .   \n",
      "    .   @param delay Delay in milliseconds. 0 is the special value that means \"forever\".\n",
      "\n"
     ]
    }
   ],
   "source": [
    "fcercles = np.fft.fft2(img_cercles)\n",
    "fcercles_shift = np.fft.fftshift(fcercles)\n",
    "magnitude_spectrum1 = 20*np.log(np.abs(fcercles_shift))\n",
    "\n",
    "fcercles_sampled = np.fft.fft2(img_cerlces_sampled_4)\n",
    "fcercles_sampled_shift = np.fft.fftshift(fcercles_sampled)\n",
    "magnitude_spectrumd2 = 20*np.log(np.abs(fcercles_sampled_shift))"
   ]
  }
 ],
 "metadata": {
  "kernelspec": {
   "display_name": "Python 3",
   "language": "python",
   "name": "python3"
  },
  "language_info": {
   "codemirror_mode": {
    "name": "ipython",
    "version": 3
   },
   "file_extension": ".py",
   "mimetype": "text/x-python",
   "name": "python",
   "nbconvert_exporter": "python",
   "pygments_lexer": "ipython3",
   "version": "3.7.0"
  }
 },
 "nbformat": 4,
 "nbformat_minor": 2
}
