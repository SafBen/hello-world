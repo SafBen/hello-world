{
 "cells": [
  {
   "cell_type": "markdown",
   "metadata": {},
   "source": [
    "Projet 3\n",
    "========\n",
    "\n",
    "TP3 séance 2-3\n",
    "========\n",
    "--------\n",
    "Ricardo\n",
    "\n",
    "Safwane"
   ]
  },
  {
   "cell_type": "code",
   "execution_count": 3,
   "metadata": {
    "pycharm": {
     "is_executing": false
    }
   },
   "outputs": [
    {
     "traceback": [
      "\u001b[0;31m---------------------------------------------------------------------------\u001b[0m",
      "\u001b[0;31mModuleNotFoundError\u001b[0m                       Traceback (most recent call last)",
      "\u001b[0;32m<ipython-input-3-6a38307f9bf8>\u001b[0m in \u001b[0;36m<module>\u001b[0;34m()\u001b[0m\n\u001b[1;32m      5\u001b[0m \u001b[0;32mimport\u001b[0m \u001b[0mmath\u001b[0m\u001b[0;34m\u001b[0m\u001b[0;34m\u001b[0m\u001b[0m\n\u001b[1;32m      6\u001b[0m \u001b[0;32mimport\u001b[0m \u001b[0mtime\u001b[0m\u001b[0;34m\u001b[0m\u001b[0;34m\u001b[0m\u001b[0m\n\u001b[0;32m----> 7\u001b[0;31m \u001b[0;32mimport\u001b[0m \u001b[0mscipy\u001b[0m\u001b[0;34m\u001b[0m\u001b[0;34m\u001b[0m\u001b[0m\n\u001b[0m\u001b[1;32m      8\u001b[0m \u001b[0;32mimport\u001b[0m \u001b[0mhuffman\u001b[0m\u001b[0;34m\u001b[0m\u001b[0;34m\u001b[0m\u001b[0m\n\u001b[1;32m      9\u001b[0m \u001b[0;32mfrom\u001b[0m \u001b[0mnumpy\u001b[0m \u001b[0;32mimport\u001b[0m \u001b[0mpi\u001b[0m\u001b[0;34m\u001b[0m\u001b[0;34m\u001b[0m\u001b[0m\n",
      "\u001b[0;31mModuleNotFoundError\u001b[0m: No module named 'scipy'"
     ],
     "ename": "ModuleNotFoundError",
     "evalue": "No module named 'scipy'",
     "output_type": "error"
    }
   ],
   "source": [
    "import numpy as np\n",
    "import matplotlib.pyplot as plt\n",
    "import cv2\n",
    "import math\n",
    "import time\n",
    "import scipy\n",
    "import huffman\n",
    "from numpy import pi\n",
    "from numpy import sin\n",
    "from numpy import zeros\n",
    "from numpy import r_\n",
    "from scipy import signal\n",
    "from scipy import misc # pip install Pillow\n",
    "import matplotlib.pylab as pylab\n",
    "\n",
    "%matplotlib inline \n",
    "scipy.__version__"
   ]
  },
  {
   "cell_type": "markdown",
   "metadata": {},
   "source": [
    " 1) Pour réduire significativement la taille de l’image, quelles sont à votre avis les informations d’une image qui pourraient être éliminées sans trop dégrader le contenu de l’image."
   ]
  },
  {
   "cell_type": "code",
   "execution_count": null,
   "metadata": {
    "pycharm": {
     "is_executing": false
    }
   },
   "outputs": [],
   "source": [
    "im = (cv2.imread('lena.png',0))\n",
    "plt.figure(figsize = (20,10))\n",
    "plt.imshow(im, cmap = 'gray')\n",
    "plt.show()\n",
    "\n"
   ]
  },
  {
   "cell_type": "markdown",
   "metadata": {
    "collapsed": true
   },
   "source": [
    "Pour réduire la taille d'une image on peut éliminer les détails de l'image. Ces détails correspondent aux hautes fréquences. Il nous faut donc un outil qui nous permettra de réduire les hautes fréquences."
   ]
  },
  {
   "cell_type": "code",
   "execution_count": null,
   "metadata": {
    "pycharm": {
     "is_executing": false
    }
   },
   "outputs": [],
   "source": []
  },
  {
   "cell_type": "code",
   "execution_count": null,
   "metadata": {
    "scrolled": true,
    "pycharm": {
     "is_executing": false
    }
   },
   "outputs": [],
   "source": []
  },
  {
   "cell_type": "markdown",
   "metadata": {},
   "source": [
    "2) Quelle outil mathématique permettrait d’accéder au contenu que vous avez identifié\n",
    "à la question précédente ? Programmer l’outil mathématique identifié et étudier ses\n",
    "propriétés de base."
   ]
  },
  {
   "cell_type": "markdown",
   "metadata": {
    "collapsed": true
   },
   "source": [
    "Pour accéder et réduire les hautes fréquences, nous allons utiliser la DCT (Discrete Cosine Transform). La DCT nous permettra de passer à l'étape de quantification puis de codage."
   ]
  },
  {
   "cell_type": "code",
   "execution_count": null,
   "metadata": {
    "pycharm": {
     "is_executing": false
    }
   },
   "outputs": [],
   "source": [
    "# Programmation de la DCT\n",
    "\n",
    "# On applique la DCT 1D qui est présente dans \n",
    "# scipy.fftpack sur les 2 axes\n",
    "# pour avoir une DCT 2D\n",
    "def DCT2(image):\n",
    "    dctImgILigne = scipy.fftpack.dct(image, axis=0, norm  = 'ortho')\n",
    "    dctImgI = scipy.fftpack.dct(dctImgILigne, axis=1, norm  = 'ortho')\n",
    "    return dctImgI\n",
    "\n",
    "\n",
    "# Programmation de la DCT inverse\n",
    "\n",
    "# On applique la DCT inverse 1D qui est présente \n",
    "# dans scipy.fftpack sur \n",
    "# les 2 axes pour avoir une DCT inverse 2D\n",
    "def iDCT2(dct):\n",
    "    imgLigne = scipy.fftpack.idct(dct, axis=0, norm  = 'ortho')\n",
    "    img = scipy.fftpack.idct(imgLigne, axis=1, norm  = 'ortho')\n",
    "    return img"
   ]
  },
  {
   "cell_type": "code",
   "execution_count": null,
   "metadata": {
    "pycharm": {
     "is_executing": false
    }
   },
   "outputs": [],
   "source": [
    "dct_im = DCT2(im)\n",
    "\n",
    "plt.figure(figsize = (100,10))\n",
    "plt.imshow(np.absolute(dct_im),cmap='gray',vmax= np.max(dct_im)*0.001,vmin = 0)\n",
    "plt.title( \"DCT all image\")\n",
    "plt.show()\n",
    "#print np.absolute(dct_im)\n",
    "\n",
    "image = iDCT2(dct_im)\n",
    "plt.figure(figsize = (20,10))\n",
    "plt.imshow(image, cmap = 'gray')\n",
    "plt.title( \"image reconstruie après DCT\")\n",
    "plt.show()"
   ]
  },
  {
   "cell_type": "markdown",
   "metadata": {},
   "source": [
    "D'après le cours, la DCT va nous permettre de travailler directement sur l'intensité des pixels. De plus la DCT permet de compacter l'énergie et ainsi d'avoir des indormations contenues dans moins de coefficients. Dernier point important, on utilise la DCT plutôt que la FFT car la DCT produit seulement des réels, cela est donc plus rapide à calculer que la FFT."
   ]
  },
  {
   "cell_type": "markdown",
   "metadata": {},
   "source": [
    "3)Est-il préférable de travailler avec des blocs de pixels (de taille 8x8 par exemple) ou\n",
    "bien sur une image entière ? Appliquer l’outil mathématique identifié à la question précédente sur des blocs de pixels 8x8."
   ]
  },
  {
   "cell_type": "markdown",
   "metadata": {},
   "source": [
    "Si on travaille sur des blocs 8x8, le calcul de la DCT sera plus rapide et donc plus efficace. En effet au lieu de faire 512x512 fois le calcul de la DCT, on fera 8x8 fois le calcul de la DCT sur les 512/8 blocs. Donc on passe de 262144 (512x512) à 4096 (8x8x512/8) calculs de DCT. Cependant on perd de l'information il y a un donc compromis à avoir entre rapidité du calcul et qualité de l'image.\n"
   ]
  },
  {
   "cell_type": "code",
   "execution_count": null,
   "metadata": {
    "pycharm": {
     "is_executing": false
    }
   },
   "outputs": [],
   "source": [
    "def DCTBloc8x8Image(img):\n",
    "    (nbColonne, nbLigne) = img.shape\n",
    "    matriceBloc = np.zeros((nbColonne, nbLigne)) # contiendra la DCT bloc 8x8\n",
    "\n",
    "    # Selection des sous-matrices de 8x8 dans la matrice de 512x512\n",
    "    for x in range(0, nbLigne,8):\n",
    "        for y in range(0, nbColonne,8):\n",
    "            matriceBloc[x:x+8,y:y+8] = DCT2(img[x:x+8,y:y+8]) # DCT sur sous-matrices de 8x8 de l'image\n",
    "    \n",
    "    return matriceBloc\n",
    "\n",
    "\n",
    "def iDCTBloc8x8Image(dct):\n",
    "    (nbColonne, nbLigne) = dct.shape\n",
    "    matriceBloc = np.zeros((nbColonne, nbLigne)) # contiendra l'image reconstituee\n",
    "\n",
    "    # Selection des sous-matrices de 8x8 dans la matrice de 512x512\n",
    "    for x in range(0, nbLigne,8):\n",
    "        for y in range(0, nbColonne,8):\n",
    "            matriceBloc[x:x+8,y:y+8] = iDCT2(dct[x:x+8,y:y+8]) # DCT inverse sur sous-matrices de 8x8\n",
    "    \n",
    "    return matriceBloc\n",
    "\n",
    "\n",
    "#DCT par bloc de 8x8 appliquee a toute l'image\n",
    "dctBlocImg = DCTBloc8x8Image(im) # DCT sur bloc de 8x8 de l'image\n",
    "imgBlocRe = iDCTBloc8x8Image(dctBlocImg) # DCT inverse sur bloc de 8x8 de la DCT bloc 8x8\n",
    "\n",
    "plt.figure(0,figsize = (30,40))\n",
    "plt.subplot(121),plt.imshow(dctBlocImg, cmap = 'gray', vmax = np.max(dctBlocImg)*0.01, vmin = 0)\n",
    "plt.title(\"DCT bloc 8x8 de l'image entiere\"), plt.xticks([]), plt.yticks([])\n",
    "plt.subplot(122),plt.imshow(imgBlocRe, cmap = 'gray')\n",
    "plt.title(\"restauration iDCT bloc 8x8\"), plt.xticks([]), plt.yticks([])\n",
    "plt.show()\n"
   ]
  },
  {
   "cell_type": "code",
   "execution_count": null,
   "metadata": {
    "pycharm": {
     "is_executing": false
    }
   },
   "outputs": [],
   "source": []
  },
  {
   "cell_type": "code",
   "execution_count": null,
   "metadata": {
    "pycharm": {
     "is_executing": false
    }
   },
   "outputs": [],
   "source": []
  },
  {
   "cell_type": "markdown",
   "metadata": {},
   "source": [
    "4)Proposer une méthode efficace pour réduire l'information à conserver. Cette méthode\n",
    "doit dépendre d'au moins un paramètre de réglage qui permet de maîtriser le niveau de\n",
    "compression souhaité. Programmer la méthode proposée.\n"
   ]
  },
  {
   "cell_type": "code",
   "execution_count": null,
   "metadata": {
    "pycharm": {
     "is_executing": false
    }
   },
   "outputs": [],
   "source": [
    "# Dans cette question nous allons implémenter un algorithme de quantification puis de compression vu en cours.\n",
    "\n",
    "# Définition de la matrice de quantification\n",
    "def Matrice_quantification(q):\n",
    "    m = np.zeros((8,8))\n",
    "    for i in range (8):\n",
    "        for j in range (8):\n",
    "            m[i][j] = 1+(1+i+j)*q\n",
    "    return m\n",
    "\n",
    "# exemple pour q = 2\n",
    "qualite = 2\n",
    "MatriceQuantification=Matrice_quantification(qualite)\n",
    "\n",
    "print(MatriceQuantification)"
   ]
  },
  {
   "cell_type": "code",
   "execution_count": null,
   "metadata": {
    "pycharm": {
     "is_executing": false
    }
   },
   "outputs": [],
   "source": [
    "# Définition de la fonction de compression\n",
    "def compression(img,q): # q = facteur de qualité\n",
    "    (nbColonne, nbLigne) = img.shape\n",
    "    img_compressee = np.zeros((nbColonne, nbLigne))\n",
    "    mq = Matrice_quantification(q)\n",
    "    for x in range(0, nbLigne,8):\n",
    "        for y in range(0, nbColonne,8):\n",
    "            img_compressee[x:x+8,y:y+8] = iDCT2(DCT2(img[x:x+8,y:y+8])//mq)\n",
    "    return img_compressee\n",
    "\n",
    "plt.figure(0,figsize = (20,20))\n",
    "# On affiche différentes images compressées pour des valeurs du facteur de qualité différentes\n",
    "for q in [(0.1,221),(2,222),(10,223),(30,224)]:\n",
    "    plt.subplot(q[1])\n",
    "    plt.imshow(compression(im,q[0]), cmap = 'gray')\n",
    "    plt.title('IMAGE COMPRESSÉE AVEC UN FACTEUR DE QUALITÉ DE ' + str(q[0])), plt.xticks([]), plt.yticks([])\n",
    "plt.show()\n"
   ]
  },
  {
   "cell_type": "markdown",
   "metadata": {},
   "source": [
    "On voit que plus le facteur de qualité est élevé, plus l'image devient moins nette. On voit nottament apparaître des petits carrés. On s'attend à pouvoir diminuer la taille mémoire qu'occupe l'image. On va donc passer au codage de la nouvelle image."
   ]
  },
  {
   "cell_type": "code",
   "execution_count": null,
   "metadata": {
    "pycharm": {
     "is_executing": false
    }
   },
   "outputs": [],
   "source": []
  },
  {
   "cell_type": "markdown",
   "metadata": {},
   "source": [
    "5) Dans la sèance 1, vous avez étudié des outils pour la compression sans perte. Dans les questions précédente , vous avez proposé une méthode de compression avec perte. Comment\n",
    "pourrait-on conjuguer ces deux approches pour obtenir une forte compression. Programmer la méthode proposée."
   ]
  },
  {
   "cell_type": "markdown",
   "metadata": {},
   "source": [
    "Nous allons utilisé l'algorithme d'Huffman pour compresser l'image sans perte. Comme nous avons déjà compressé l'image (avec perte) nous allons appliquer l'algorithme d'Huffman non pas sur l'image originale mais sur l'image qui a déjà été compressé avec perte. On combine ainsi les 2 méthodes de compression, une avec perte et l'autre sans perte."
   ]
  },
  {
   "cell_type": "code",
   "execution_count": null,
   "metadata": {
    "pycharm": {
     "is_executing": false
    }
   },
   "outputs": [],
   "source": [
    "# La fonction suivante correspond à l'implémentation de l'algorithme d'Huffman sur une image.\n",
    "# Elle renvoie la longueur moyenne d'un pixel après codage d'Huffman ainsi que l'entropie\n",
    "def codage_huffman(img):\n",
    "    (nbColonne, nbLigne) = img.shape\n",
    "    longueur_bloc, longueur_totale, entropie = 0, 0, 0 # initialisation\n",
    "    for x in range(0, nbLigne,8):\n",
    "        for y in range(0, nbColonne,8):\n",
    "            dctBloc = DCT2(img[x:x+8,y:y+8])\n",
    "            val, count, enc = huffman.huffman_compute(dctBloc)\n",
    "            for i in range(len(val)):\n",
    "                longueur = len(enc[val[i]])*count[i] # longueur d'un pixel * fréquence d'apparition\n",
    "                longueur_bloc += longueur\n",
    "                # début du calcul de l'entropie\n",
    "                prob = count[i]/dctBloc.size\n",
    "                entropie = entropie + prob*np.log2(prob)\n",
    "                # fin du calcul de l'entropie\n",
    "            longueur_totale += longueur_bloc/dctBloc.size # longueur moyenne d'un bloc\n",
    "            longueur_bloc = 0\n",
    "    return longueur_totale/(img.size/dctBloc.size), -entropie/(img.size/dctBloc.size), longueur_totale\n",
    "\n",
    "longueur_moyenne, entropie, longueur_totale = codage_huffman(im)\n",
    "print(\"longueur moyenne d'un pixel de l'image originale = \", longueur_moyenne)\n",
    "print(\"Entropie = \", entropie)\n",
    "print(\"longueur_totale = \", longueur_totale, \"\\n\")\n",
    "\n",
    "for q in [0.1,2,10,30]:\n",
    "    longueur_moyenne, entropie, longueur_totale = codage_huffman(compression(im,q))\n",
    "    print(\"longueur moyenne d'un pixel de l'image compréssée avec un facteur de qualité de\", q, \"=\", longueur_moyenne)\n",
    "    print(\"Entropie = \", entropie)\n",
    "    print(\"longueur_totale = \", longueur_totale, \"\\n\")"
   ]
  },
  {
   "cell_type": "markdown",
   "metadata": {
    "collapsed": true
   },
   "source": [
    "On voit que plus le facteur de qualité est élevé, plus la longueur moyenne d'un pixel diminue ainsi que la longueur totale des pixels donc on diminue bien l'espace mémoire occupée par l'image. De plus on peut comparer ces longueurs moyennes à l'entropie : on voit alors que l'on peut encore gagner de la place surtout quand q est élevé."
   ]
  },
  {
   "cell_type": "code",
   "execution_count": null,
   "metadata": {
    "pycharm": {
     "is_executing": false
    }
   },
   "outputs": [],
   "source": []
  },
  {
   "cell_type": "markdown",
   "metadata": {},
   "source": [
    "6) Étudier l'efficacité de cette méthode en terme de compression et en terme de respect de\n",
    "la qualité visuelle."
   ]
  },
  {
   "cell_type": "markdown",
   "metadata": {
    "collapsed": true
   },
   "source": [
    "Pour étudier l'efficacité de cette méthode nous allons tracer 4 graphiques :  \n",
    "1) La taille mémoire de l'image en fonction du facteur de qualité  \n",
    "2) Le taux de compression en fonction du facteur de qualité  \n",
    "3) L'erreur quadratique moyenne en fonction de la taille entre l'image originale et l'image compressée\n",
    "4) L'erreur quadratique moyenne en fonction du facteur de qualité"
   ]
  },
  {
   "cell_type": "code",
   "execution_count": null,
   "metadata": {
    "pycharm": {
     "is_executing": false
    }
   },
   "outputs": [],
   "source": [
    "# Note : cette cellule met un peu de temps à calculer\n",
    "\n",
    "# Ici on calcule la taille, le taux et l'erreur\n",
    "\n",
    "qualite = []\n",
    "taille = []\n",
    "taux = []\n",
    "EQM = []\n",
    "\n",
    "from sklearn.metrics import mean_squared_error\n",
    "\n",
    "q=0.1\n",
    "\n",
    "for i in range(30):\n",
    "    imageCompressee=compression(im,q)\n",
    "    qualite.append(q)\n",
    "    lg_moyenne, entropie, longueur_totale = codage_huffman(compression(im,q)) # calcul taille\n",
    "    taille.append(longueur_totale)\n",
    "    taux.append(longueur_totale/(im.size*8)) # calcul du taux\n",
    "    error = mean_squared_error(imageCompressee,im)/(im.size) # calcul de l'erreur\n",
    "    EQM.append(error)\n",
    "    q=q+0.5\n"
   ]
  },
  {
   "cell_type": "code",
   "execution_count": null,
   "metadata": {
    "pycharm": {
     "is_executing": false
    }
   },
   "outputs": [],
   "source": [
    "# Taille en fonction du facteur de qualité\n",
    "plt.plot(np.array(qualite),np.array(taille))\n",
    "plt.title('Taille en fonction du facteur de qualité')\n",
    "plt.show()"
   ]
  },
  {
   "cell_type": "markdown",
   "metadata": {
    "collapsed": true
   },
   "source": [
    "Nous pouvons voir que si on augmente le facteur de qualité la taille de l'image va diminuer parce qu'on aura perdu plus d'informations et on va avoir besoin de moins de code binaire pour le répresenter."
   ]
  },
  {
   "cell_type": "code",
   "execution_count": null,
   "metadata": {
    "pycharm": {
     "is_executing": false
    }
   },
   "outputs": [],
   "source": [
    "# Taux de compression en fonction du facteur de qualité\n",
    "plt.plot(np.array(qualite),np.array(taux))\n",
    "plt.title('Taux de compression en fonction du facteur de qualité')\n",
    "plt.show()"
   ]
  },
  {
   "cell_type": "markdown",
   "metadata": {
    "collapsed": true
   },
   "source": [
    "Le taux de compression est par définition le rapport entre le volume final et le volume initial de l'image. On voit dans le graphique ci-dessus que le rapport diminue quand on va augmenter la qualité car le volume final diminue quand on perd de l'information et on utilise des codes plus courts."
   ]
  },
  {
   "cell_type": "code",
   "execution_count": null,
   "metadata": {
    "pycharm": {
     "is_executing": false
    }
   },
   "outputs": [],
   "source": [
    "# Erreur Quadratique en fonction de la taille\n",
    "plt.plot(np.array(taille),np.array(EQM))\n",
    "plt.title('Erreur Quadratique en fonction de la taille')\n",
    "plt.show()"
   ]
  },
  {
   "cell_type": "markdown",
   "metadata": {},
   "source": [
    "On peut remarquer que l'erreur va diminuer de plus en plus quand on augmente la taille. Cela est dû au fait qu'on utilise plus de mémoire pour pouvoir garder le plus possible l'image original."
   ]
  },
  {
   "cell_type": "code",
   "execution_count": null,
   "metadata": {
    "pycharm": {
     "is_executing": false
    }
   },
   "outputs": [],
   "source": [
    "# Erreur Quadratique en fonction du facteur de qualité\n",
    "plt.plot(np.array(qualite),np.array(EQM))\n",
    "plt.title('Erreur Quadratique en fonction du facteur de qualité')\n",
    "plt.show()"
   ]
  },
  {
   "cell_type": "markdown",
   "metadata": {},
   "source": [
    "Plus le facteur de qualité augmente, plus l'erreur augmente donc on gagne en espace mémoire au détriment de la qualité visuelle de l'image."
   ]
  }
 ],
 "metadata": {
  "kernelspec": {
   "display_name": "Python 3",
   "language": "python",
   "name": "python3"
  },
  "language_info": {
   "codemirror_mode": {
    "name": "ipython",
    "version": 3
   },
   "file_extension": ".py",
   "mimetype": "text/x-python",
   "name": "python",
   "nbconvert_exporter": "python",
   "pygments_lexer": "ipython3",
   "version": "3.6.8"
  },
  "latex_envs": {
   "LaTeX_envs_menu_present": true,
   "autoclose": false,
   "autocomplete": true,
   "bibliofile": "biblio.bib",
   "cite_by": "apalike",
   "current_citInitial": 1,
   "eqLabelWithNumbers": true,
   "eqNumInitial": 1,
   "hotkeys": {
    "equation": "Ctrl-E",
    "itemize": "Ctrl-I"
   },
   "labels_anchors": false,
   "latex_user_defs": false,
   "report_style_numbering": false,
   "user_envs_cfg": false
  },
  "varInspector": {
   "cols": {
    "lenName": 16,
    "lenType": 16,
    "lenVar": 40
   },
   "kernels_config": {
    "python": {
     "delete_cmd_postfix": "",
     "delete_cmd_prefix": "del ",
     "library": "var_list.py",
     "varRefreshCmd": "print(var_dic_list())"
    },
    "r": {
     "delete_cmd_postfix": ") ",
     "delete_cmd_prefix": "rm(",
     "library": "var_list.r",
     "varRefreshCmd": "cat(var_dic_list()) "
    }
   },
   "types_to_exclude": [
    "module",
    "function",
    "builtin_function_or_method",
    "instance",
    "_Feature"
   ],
   "window_display": true
  }
 },
 "nbformat": 4,
 "nbformat_minor": 1
}