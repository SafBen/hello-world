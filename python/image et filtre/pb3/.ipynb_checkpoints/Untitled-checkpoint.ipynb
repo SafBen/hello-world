{
 "cells": [
  {
   "cell_type": "code",
   "execution_count": 1,
   "metadata": {},
   "outputs": [
    {
     "ename": "NameError",
     "evalue": "name 'np' is not defined",
     "output_type": "error",
     "traceback": [
      "\u001b[0;31m---------------------------------------------------------------------------\u001b[0m",
      "\u001b[0;31mNameError\u001b[0m                                 Traceback (most recent call last)",
      "\u001b[0;32m<ipython-input-1-c2cc51d5d08c>\u001b[0m in \u001b[0;36m<module>\u001b[0;34m()\u001b[0m\n\u001b[0;32m----> 1\u001b[0;31m \u001b[0mimg_total\u001b[0m \u001b[0;34m=\u001b[0m \u001b[0mnp\u001b[0m\u001b[0;34m.\u001b[0m\u001b[0mzeros\u001b[0m\u001b[0;34m(\u001b[0m\u001b[0;34m(\u001b[0m\u001b[0;36m512\u001b[0m\u001b[0;34m,\u001b[0m\u001b[0;36m512\u001b[0m\u001b[0;34m)\u001b[0m\u001b[0;34m)\u001b[0m\u001b[0;34m\u001b[0m\u001b[0m\n\u001b[0m\u001b[1;32m      2\u001b[0m \u001b[0;34m\u001b[0m\u001b[0m\n\u001b[1;32m      3\u001b[0m \u001b[0;32mfor\u001b[0m \u001b[0mi\u001b[0m \u001b[0;32min\u001b[0m \u001b[0mrange\u001b[0m\u001b[0;34m(\u001b[0m\u001b[0;36m1\u001b[0m\u001b[0;34m,\u001b[0m\u001b[0;36m64\u001b[0m\u001b[0;34m)\u001b[0m\u001b[0;34m:\u001b[0m\u001b[0;34m\u001b[0m\u001b[0m\n\u001b[1;32m      4\u001b[0m     \u001b[0;32mfor\u001b[0m \u001b[0mj\u001b[0m \u001b[0;32min\u001b[0m \u001b[0mrange\u001b[0m\u001b[0;34m(\u001b[0m\u001b[0;36m1\u001b[0m\u001b[0;34m,\u001b[0m\u001b[0;36m64\u001b[0m\u001b[0;34m)\u001b[0m\u001b[0;34m:\u001b[0m\u001b[0;34m\u001b[0m\u001b[0m\n\u001b[1;32m      5\u001b[0m         \u001b[0mimg_total\u001b[0m\u001b[0;34m[\u001b[0m\u001b[0mi\u001b[0m\u001b[0;34m:\u001b[0m\u001b[0;34m:\u001b[0m\u001b[0mi\u001b[0m\u001b[0;34m*\u001b[0m\u001b[0;36m8\u001b[0m\u001b[0;34m,\u001b[0m\u001b[0mj\u001b[0m\u001b[0;34m:\u001b[0m\u001b[0;34m:\u001b[0m\u001b[0mj\u001b[0m\u001b[0;34m*\u001b[0m\u001b[0;36m8\u001b[0m\u001b[0;34m]\u001b[0m \u001b[0;34m=\u001b[0m \u001b[0mcreerBloc\u001b[0m\u001b[0;34m(\u001b[0m\u001b[0mi\u001b[0m\u001b[0;34m,\u001b[0m\u001b[0mj\u001b[0m\u001b[0;34m)\u001b[0m\u001b[0;34m\u001b[0m\u001b[0m\n",
      "\u001b[0;31mNameError\u001b[0m: name 'np' is not defined"
     ]
    }
   ],
   "source": [
    "img_total = np.zeros((512,512))\n",
    "\n",
    "for i in range(1,64):\n",
    "    for j in range(1,64):\n",
    "        img_total[i::i*8,j::j*8] = creerBloc(i,j)   \n",
    "            \n",
    "plt.figure(3,figsize = (14,14))\n",
    "plt.imshow(img_total, cmap = 'gray')\n",
    "plt.title(\"img_total\"), plt.xticks([]), plt.yticks([])\n"
   ]
  },
  {
   "cell_type": "code",
   "execution_count": 2,
   "metadata": {},
   "outputs": [
    {
     "ename": "SyntaxError",
     "evalue": "invalid syntax (<ipython-input-2-c1acea8ef53e>, line 17)",
     "output_type": "error",
     "traceback": [
      "\u001b[0;36m  File \u001b[0;32m\"<ipython-input-2-c1acea8ef53e>\"\u001b[0;36m, line \u001b[0;32m17\u001b[0m\n\u001b[0;31m    def (img):\u001b[0m\n\u001b[0m        ^\u001b[0m\n\u001b[0;31mSyntaxError\u001b[0m\u001b[0;31m:\u001b[0m invalid syntax\n"
     ]
    }
   ],
   "source": [
    "# nous avons seulement eu le temps d'assembler les blocs sans faire la dct\n",
    "\n",
    "image_total=np.zeros((lignes,colonnes))\n",
    "def assemblageBloc(bloc,i,j):\n",
    "    i=i*8\n",
    "    j=j*8\n",
    "    k=0\n",
    "    l=0\n",
    "    for m in range (i,i+8):\n",
    "        for n in range(j,j+8):\n",
    "            image_total[m,n]=bloc[k,l]\n",
    "            l=l+1\n",
    "        k=k+1\n",
    "        l=0\n",
    "    return image_total\n",
    "\n",
    "def (img):\n",
    "    for i in range (lignes//8):\n",
    "        for j in range (colonnes//8):\n",
    "            img_8=creerBloc(img,i,j)\n",
    "    return \n",
    "\n",
    "dct2_lena_8 = dct2(lena_8)\n",
    "dct2_img_total=assemblageBloc(dct2_lena_8,i,j)\n",
    "        \n",
    "idct2_img_total = idct2(dct2_img_total)\n",
    "        \n",
    "        \n",
    "plt.figure(4,figsize = (14,14))\n",
    "plt.subplot(121)\n",
    "plt.imshow(dct2_img_total, cmap = 'gray', vmax=np.max(dct2_lena)*0.0001,vmin =0)\n",
    "plt.title(\"bloc test Lena\"), plt.xticks([]), plt.yticks([])\n",
    "\n",
    "plt.subplot(122)\n",
    "plt.imshow(idct2_img_total, cmap = 'gray')\n",
    "plt.title(\"DCT bloc test Lena\"), plt.xticks([]), plt.yticks([])\n",
    "\n",
    "plt.show()"
   ]
  },
  {
   "cell_type": "code",
   "execution_count": 3,
   "metadata": {},
   "outputs": [
    {
     "ename": "NameError",
     "evalue": "name 'np' is not defined",
     "output_type": "error",
     "traceback": [
      "\u001b[0;31m---------------------------------------------------------------------------\u001b[0m",
      "\u001b[0;31mNameError\u001b[0m                                 Traceback (most recent call last)",
      "\u001b[0;32m<ipython-input-3-fdc51a103d59>\u001b[0m in \u001b[0;36m<module>\u001b[0;34m()\u001b[0m\n\u001b[0;32m----> 1\u001b[0;31m \u001b[0mimageCompressee\u001b[0m\u001b[0;34m=\u001b[0m\u001b[0mnp\u001b[0m\u001b[0;34m.\u001b[0m\u001b[0mzeros\u001b[0m\u001b[0;34m(\u001b[0m\u001b[0;34m(\u001b[0m\u001b[0mlignes\u001b[0m\u001b[0;34m,\u001b[0m\u001b[0mcolonnes\u001b[0m\u001b[0;34m)\u001b[0m\u001b[0;34m)\u001b[0m\u001b[0;34m\u001b[0m\u001b[0m\n\u001b[0m\u001b[1;32m      2\u001b[0m \u001b[0;32mdef\u001b[0m \u001b[0massemblageBloc\u001b[0m\u001b[0;34m(\u001b[0m\u001b[0mbloc\u001b[0m\u001b[0;34m,\u001b[0m\u001b[0mi\u001b[0m\u001b[0;34m,\u001b[0m\u001b[0mj\u001b[0m\u001b[0;34m)\u001b[0m\u001b[0;34m:\u001b[0m\u001b[0;34m\u001b[0m\u001b[0m\n\u001b[1;32m      3\u001b[0m     \u001b[0mi\u001b[0m\u001b[0;34m=\u001b[0m\u001b[0mi\u001b[0m\u001b[0;34m*\u001b[0m\u001b[0;36m8\u001b[0m\u001b[0;34m\u001b[0m\u001b[0m\n\u001b[1;32m      4\u001b[0m     \u001b[0mj\u001b[0m\u001b[0;34m=\u001b[0m\u001b[0mj\u001b[0m\u001b[0;34m*\u001b[0m\u001b[0;36m8\u001b[0m\u001b[0;34m\u001b[0m\u001b[0m\n\u001b[1;32m      5\u001b[0m     \u001b[0mk\u001b[0m\u001b[0;34m=\u001b[0m\u001b[0;36m0\u001b[0m\u001b[0;34m\u001b[0m\u001b[0m\n",
      "\u001b[0;31mNameError\u001b[0m: name 'np' is not defined"
     ]
    }
   ],
   "source": [
    "imageCompressee=np.zeros((lignes,colonnes))\n",
    "def assemblageBloc(bloc,i,j):\n",
    "    i=i*8\n",
    "    j=j*8\n",
    "    k=0\n",
    "    l=0\n",
    "    for m in range (i,i+8):\n",
    "        for n in range(j,j+8):\n",
    "            imageCompressee[m,n]=bloc[k,l]\n",
    "            l=l+1\n",
    "        k=k+1\n",
    "        l=0\n",
    "    return imageCompressee\n",
    "for i in range (lignes//8):\n",
    "    for j in range (colonnes//8):\n",
    "        lena_8=creerBloc(i,j)\n",
    "        imgtotal=assemblageBloc(lena_8,i,j)\n",
    "    \n",
    "plt.imshow(imgtotal, cmap = 'gray')\n",
    "plt.title(\"image total\"), plt.xticks([]), plt.yticks([])"
   ]
  },
  {
   "cell_type": "code",
   "execution_count": 1,
   "metadata": {},
   "outputs": [
    {
     "ename": "NameError",
     "evalue": "name 'np' is not defined",
     "output_type": "error",
     "traceback": [
      "\u001b[0;31m---------------------------------------------------------------------------\u001b[0m",
      "\u001b[0;31mNameError\u001b[0m                                 Traceback (most recent call last)",
      "\u001b[0;32m<ipython-input-1-9d2f915deb7f>\u001b[0m in \u001b[0;36m<module>\u001b[0;34m()\u001b[0m\n\u001b[1;32m      1\u001b[0m \u001b[0;31m# nous avons seulement eu le temps d'assembler les blocs sans faire la dct\u001b[0m\u001b[0;34m\u001b[0m\u001b[0;34m\u001b[0m\u001b[0m\n\u001b[1;32m      2\u001b[0m \u001b[0;34m\u001b[0m\u001b[0m\n\u001b[0;32m----> 3\u001b[0;31m \u001b[0mimageCompressee\u001b[0m\u001b[0;34m=\u001b[0m\u001b[0mnp\u001b[0m\u001b[0;34m.\u001b[0m\u001b[0mzeros\u001b[0m\u001b[0;34m(\u001b[0m\u001b[0;34m(\u001b[0m\u001b[0mlignes\u001b[0m\u001b[0;34m,\u001b[0m\u001b[0mcolonnes\u001b[0m\u001b[0;34m)\u001b[0m\u001b[0;34m)\u001b[0m\u001b[0;34m\u001b[0m\u001b[0m\n\u001b[0m\u001b[1;32m      4\u001b[0m \u001b[0;32mdef\u001b[0m \u001b[0massemblageBloc\u001b[0m\u001b[0;34m(\u001b[0m\u001b[0mbloc\u001b[0m\u001b[0;34m,\u001b[0m\u001b[0mi\u001b[0m\u001b[0;34m,\u001b[0m\u001b[0mj\u001b[0m\u001b[0;34m)\u001b[0m\u001b[0;34m:\u001b[0m\u001b[0;34m\u001b[0m\u001b[0m\n\u001b[1;32m      5\u001b[0m     \u001b[0mi\u001b[0m\u001b[0;34m=\u001b[0m\u001b[0mi\u001b[0m\u001b[0;34m*\u001b[0m\u001b[0;36m8\u001b[0m\u001b[0;34m\u001b[0m\u001b[0m\n",
      "\u001b[0;31mNameError\u001b[0m: name 'np' is not defined"
     ]
    }
   ],
   "source": [
    "# nous avons seulement eu le temps d'assembler les blocs sans faire la dct\n",
    "\n",
    "imageCompressee=np.zeros((lignes,colonnes))\n",
    "def assemblageBloc(bloc,i,j):\n",
    "    i=i*8\n",
    "    j=j*8\n",
    "    k=0\n",
    "    l=0\n",
    "    for m in range (i,i+8):\n",
    "        for n in range(j,j+8):\n",
    "            imageCompressee[m,n]=bloc[k,l]\n",
    "            l=l+1\n",
    "        k=k+1\n",
    "        l=0\n",
    "    return imageCompressee\n",
    "\n",
    "def img8x8(img):\n",
    "    (lignes, colonnes) = img.shape \n",
    "    for i in range (lignes//8):\n",
    "        for j in range (colonnes//8):\n",
    "            img_8=creerBloc(img,i,j)\n",
    "    return\n",
    "\n",
    "lena_8 = img8x8(lena)\n",
    "dct2_lena_8 = dct2(lena_8)\n",
    "dct2_img_total=assemblageBloc(dct2_lena_8,i,j)\n",
    "\n",
    "idct2_img_total = idct2(dct2_img_total)\n",
    "        \n",
    "        \n",
    "plt.figure(4,figsize = (14,14))\n",
    "plt.subplot(121)\n",
    "plt.imshow(dct2_img_total, cmap = 'gray', vmax=np.max(dct2_lena)*0.0001,vmin =0)\n",
    "plt.title(\"bloc test Lena\"), plt.xticks([]), plt.yticks([])\n",
    "\n",
    "plt.subplot(122)\n",
    "plt.imshow(idct2_img_total, cmap = 'gray')\n",
    "plt.title(\"DCT bloc test Lena\"), plt.xticks([]), plt.yticks([])\n",
    "\n",
    "plt.show()"
   ]
  },
  {
   "cell_type": "code",
   "execution_count": 2,
   "metadata": {},
   "outputs": [
    {
     "data": {
      "text/plain": [
       "262144"
      ]
     },
     "execution_count": 2,
     "metadata": {},
     "output_type": "execute_result"
    }
   ],
   "source": [
    "512*512"
   ]
  },
  {
   "cell_type": "code",
   "execution_count": 4,
   "metadata": {},
   "outputs": [
    {
     "data": {
      "text/plain": [
       "4096.0"
      ]
     },
     "execution_count": 4,
     "metadata": {},
     "output_type": "execute_result"
    }
   ],
   "source": [
    "8*8*512/8"
   ]
  },
  {
   "cell_type": "code",
   "execution_count": 5,
   "metadata": {},
   "outputs": [
    {
     "data": {
      "text/plain": [
       "4096"
      ]
     },
     "execution_count": 5,
     "metadata": {},
     "output_type": "execute_result"
    }
   ],
   "source": [
    "64*64"
   ]
  }
 ],
 "metadata": {
  "kernelspec": {
   "display_name": "Python 3",
   "language": "python",
   "name": "python3"
  },
  "language_info": {
   "codemirror_mode": {
    "name": "ipython",
    "version": 3
   },
   "file_extension": ".py",
   "mimetype": "text/x-python",
   "name": "python",
   "nbconvert_exporter": "python",
   "pygments_lexer": "ipython3",
   "version": "3.7.0"
  }
 },
 "nbformat": 4,
 "nbformat_minor": 2
}
