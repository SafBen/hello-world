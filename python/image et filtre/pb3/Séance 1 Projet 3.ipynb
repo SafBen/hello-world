{
 "cells": [
  {
   "cell_type": "code",
   "execution_count": 18,
   "metadata": {},
   "outputs": [
    {
     "name": "stdout",
     "output_type": "stream",
     "text": [
      "1.0\n",
      "2.0900000000000003\n",
      "2.019010583616466\n"
     ]
    }
   ],
   "source": [
    "from math import log2\n",
    "\n",
    "P = [0.45,0.20,0.16,0.14,0.05]\n",
    "print(sum(P[i] for i in range(5)))\n",
    "print(1*0.45+2*0.20+3*0.16+4*0.14+4*0.05)\n",
    "print(sum(-P[i]*log2(P[i]) for i in range(5)))"
   ]
  },
  {
   "cell_type": "code",
   "execution_count": 29,
   "metadata": {},
   "outputs": [
    {
     "name": "stdout",
     "output_type": "stream",
     "text": [
      "29\n",
      "[0, 0, 0, 0, 1, 0, 1, 0, 1, 1, 1, 1, 1, 1, 1, 2, 1, 2, 0, 2, 1, 1, 0, 0, 0, 0, 0, 0, 0]\n",
      "4.1034482758620685\n"
     ]
    }
   ],
   "source": [
    "x = [2,3,2,2,7,2,5,3,5,7,5,7,5,7,7,8,7,8,2,8,5,5,2,1,3,1,2,1,1]\n",
    "print(len(x))\n",
    "y = [x[i]//4 for i in range(len(x))]\n",
    "print(y)\n",
    "n = len(x)\n",
    "y = [y[i]*4 for i in range(len(x))]\n",
    "\n",
    "e = 1/n*(sum((x[i]-y[i])**2 for i in range(n)))\n",
    "print(e)\n"
   ]
  },
  {
   "cell_type": "code",
   "execution_count": 30,
   "metadata": {},
   "outputs": [
    {
     "name": "stdout",
     "output_type": "stream",
     "text": [
      "29\n",
      "[0, 0, 0, 0, 0, 0, 0, 0, 0, 0, 0, 0, 0, 0, 0, 1, 0, 1, 0, 1, 0, 0, 0, 0, 0, 0, 0, 0, 0]\n",
      "17.344827586206897\n"
     ]
    }
   ],
   "source": [
    "x = [2,3,2,2,7,2,5,3,5,7,5,7,5,7,7,8,7,8,2,8,5,5,2,1,3,1,2,1,1]\n",
    "print(len(x))\n",
    "y = [x[i]//8 for i in range(len(x))]\n",
    "print(y)\n",
    "n = len(x)\n",
    "y = [y[i]*8 for i in range(len(x))]\n",
    "\n",
    "e = 1/n*(sum((x[i]-y[i])**2 for i in range(n)))\n",
    "print(e)\n"
   ]
  }
 ],
 "metadata": {
  "kernelspec": {
   "display_name": "Python 3",
   "language": "python",
   "name": "python3"
  },
  "language_info": {
   "codemirror_mode": {
    "name": "ipython",
    "version": 3
   },
   "file_extension": ".py",
   "mimetype": "text/x-python",
   "name": "python",
   "nbconvert_exporter": "python",
   "pygments_lexer": "ipython3",
   "version": "3.7.0"
  }
 },
 "nbformat": 4,
 "nbformat_minor": 2
}
