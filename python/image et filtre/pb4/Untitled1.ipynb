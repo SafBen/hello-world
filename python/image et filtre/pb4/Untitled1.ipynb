{
 "cells": [
  {
   "cell_type": "code",
   "execution_count": 51,
   "metadata": {},
   "outputs": [
    {
     "name": "stdout",
     "output_type": "stream",
     "text": [
      "[[ 0.  1.  4.  9.]\n",
      " [ 1.  2.  5. 10.]\n",
      " [ 2.  3.  6. 11.]\n",
      " [ 3.  4.  7. 12.]]\n"
     ]
    }
   ],
   "source": [
    "import numpy as np\n",
    "\n",
    "def matricedecompo(v,k):\n",
    "    n = len(v)\n",
    "    M = np.zeros((n,n))\n",
    "    for i in range(n//2**k):\n",
    "        M[i][2*i] = 1/2\n",
    "        M[i][2*i+1] = 1/2\n",
    "    j=0\n",
    "    for i in range(n//2**k,n//k):\n",
    "        M[i][2*j] = -1/2\n",
    "        M[i][2*j+1] = 1/2\n",
    "        j+=1\n",
    "    if k>1:\n",
    "        for i in range(n//k,n):\n",
    "            M[i][i]=1\n",
    "    return M\n",
    "\n",
    "# exemple\n",
    "v = [7,1,6,6]\n",
    "M = matricedecompo(v,1)\n",
    "\n",
    "x = np.zeros((4,4))\n",
    "(l,c)=x.shape\n",
    "\n",
    "for i in range(l):\n",
    "    for j in range(c):\n",
    "        x[i][j] = i+j*j\n",
    "print(x)"
   ]
  },
  {
   "cell_type": "code",
   "execution_count": 52,
   "metadata": {},
   "outputs": [
    {
     "name": "stdout",
     "output_type": "stream",
     "text": [
      "[0.5 6.5 0.5 2.5]\n",
      "[1.5 7.5 0.5 2.5]\n",
      "[2.5 8.5 0.5 2.5]\n",
      "[3.5 9.5 0.5 2.5]\n",
      "\n",
      " [[ 0.5  0.5  0.   0. ]\n",
      " [ 0.   0.   0.5  0.5]\n",
      " [-0.5  0.5  0.   0. ]\n",
      " [ 0.   0.  -0.5  0.5]]\n"
     ]
    }
   ],
   "source": [
    "for i in range(l):\n",
    "    print(np.dot(M,x[i:i+1][0]))\n",
    "    \n",
    "print(\"\\n\",M)"
   ]
  },
  {
   "cell_type": "code",
   "execution_count": 53,
   "metadata": {},
   "outputs": [
    {
     "name": "stdout",
     "output_type": "stream",
     "text": [
      "[0.5 6.5 0.5 2.5]\n",
      "[1.5 7.5 0.5 2.5]\n",
      "[2.5 8.5 0.5 2.5]\n",
      "[3.5 9.5 0.5 2.5]\n",
      "\n",
      " [[ 0.5  0.5  0.   0. ]\n",
      " [ 0.   0.   0.5  0.5]\n",
      " [-0.5  0.5  0.   0. ]\n",
      " [ 0.   0.  -0.5  0.5]]\n"
     ]
    }
   ],
   "source": [
    "for i in range(c):\n",
    "    print(np.dot(M,x[0:c][i]))\n",
    "    \n",
    "print(\"\\n\",M)"
   ]
  },
  {
   "cell_type": "code",
   "execution_count": 69,
   "metadata": {},
   "outputs": [
    {
     "name": "stdout",
     "output_type": "stream",
     "text": [
      "[ 9. 10. 11. 12.]\n"
     ]
    },
    {
     "data": {
      "text/plain": [
       "array([ 9., 10., 11., 12.])"
      ]
     },
     "execution_count": 69,
     "metadata": {},
     "output_type": "execute_result"
    }
   ],
   "source": [
    "print(np.dot(I,x[0:c,3]))\n",
    "\n",
    "x[0:c,3]"
   ]
  },
  {
   "cell_type": "code",
   "execution_count": 71,
   "metadata": {},
   "outputs": [
    {
     "name": "stdout",
     "output_type": "stream",
     "text": [
      "[0. 1. 4. 9.]\n",
      "[ 1.  2.  5. 10.]\n",
      "[ 2.  3.  6. 11.]\n",
      "[ 3.  4.  7. 12.]\n",
      "[0. 1. 2. 3.]\n",
      "[1. 2. 3. 4.]\n",
      "[4. 5. 6. 7.]\n",
      "[ 9. 10. 11. 12.]\n"
     ]
    }
   ],
   "source": [
    "I=np.identity(l)\n",
    "\n",
    "for i in range(l):\n",
    "    print(np.dot(I,x[i:i+1][0]))\n",
    "    \n",
    "for i in range(c):\n",
    "    print(np.dot(I,x[0:c,i]))\n",
    "   "
   ]
  },
  {
   "cell_type": "code",
   "execution_count": 80,
   "metadata": {},
   "outputs": [
    {
     "data": {
      "text/plain": [
       "array([[1000.,    1.,    4.,    9.],\n",
       "       [   1.,    2.,    5.,   10.],\n",
       "       [   2.,    3.,    6.,   11.]])"
      ]
     },
     "execution_count": 80,
     "metadata": {},
     "output_type": "execute_result"
    }
   ],
   "source": [
    "import copy\n",
    "\n",
    "y = copy.deepcopy(x)\n",
    "y[0][0] = 1000\n",
    "y[0:6//2]"
   ]
  },
  {
   "cell_type": "code",
   "execution_count": 98,
   "metadata": {},
   "outputs": [
    {
     "name": "stdout",
     "output_type": "stream",
     "text": [
      "512\n",
      "512 512 \n",
      "\n",
      "256 256 \n",
      "\n",
      "128 128 \n",
      "\n"
     ]
    }
   ],
   "source": [
    "x = np.zeros((512,512))\n",
    "(l,c)=x.shape\n",
    "print(len(x))\n",
    "for i in range(l):\n",
    "    for j in range(c):\n",
    "        x[i][j] = 1\n",
    "\n",
    "for i in range(3):\n",
    "    x=x[0:l//2**i,0:l//2**i]\n",
    "    print(len(x),len(x[0]),\"\\n\")"
   ]
  },
  {
   "cell_type": "code",
   "execution_count": 99,
   "metadata": {},
   "outputs": [
    {
     "data": {
      "text/plain": [
       "128.0"
      ]
     },
     "execution_count": 99,
     "metadata": {},
     "output_type": "execute_result"
    }
   ],
   "source": [
    "512/4"
   ]
  }
 ],
 "metadata": {
  "kernelspec": {
   "display_name": "Python 3",
   "language": "python",
   "name": "python3"
  },
  "language_info": {
   "codemirror_mode": {
    "name": "ipython",
    "version": 3
   },
   "file_extension": ".py",
   "mimetype": "text/x-python",
   "name": "python",
   "nbconvert_exporter": "python",
   "pygments_lexer": "ipython3",
   "version": "3.7.0"
  }
 },
 "nbformat": 4,
 "nbformat_minor": 2
}
